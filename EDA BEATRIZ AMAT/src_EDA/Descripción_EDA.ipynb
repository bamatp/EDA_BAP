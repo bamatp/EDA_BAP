{
 "cells": [
  {
   "cell_type": "markdown",
   "metadata": {},
   "source": [
    "# **¿Hasta qué punto son de fiables los datos de las noticias que publican los diferentes medios de comunicación?**"
   ]
  },
  {
   "cell_type": "markdown",
   "metadata": {},
   "source": [
    "El presente Análisis Exploratorio de Datos tiene por objeto analizar la supuesta veracidad o posible manipulación de datos en la información contenida en los titulares alarmantes con los que nos encontramos diariamente en los diferentes medios de comunicación. \n",
    "\n",
    "Como es prácticamente imposible indagar sobre los titulares más llamativos y publicados en el último año, para el presente trabajo indagaremos sobre las principales causas de mortalidad en España. \n",
    "\n",
    "A título ilustrativo, vamos a exponer algunos de los titulares publicados recientemente sobre esta temática.\n",
    " \n",
    "- El pasado 14 de marzo de 2023, el periódico La Razón publicó que ***\"el 40% de españoles sufre mala salud mental, y casi el 15% ha tenido ideas suicidas\"*** https://www.larazon.es/sociedad/40-espanoles-sufre-mala-salud-mental-casi-15-tenido-ideas-suicidas_20230314641073537262e50001aa04d4.html\n",
    "\n",
    "- El pasado 1 de marzo de 2023, el diario digital de Pozuelo publicó un artículo sobre la ***\"alerta por la escasez de profesionales expertos en la prevención del suicidio, primera causa de muerte entre los jóvenes en España\"*** https://www.enpozuelo.es/noticia/17455/politica/alerta-por-la-escasez-de-profesionales-expertos-en-la-prevencion-del-suicidio-primera-causa-de-muerte-entre-los-jovenes-en-espana.html\n",
    "\n",
    "- El pasado 9 de enero de 2023, Onda Cero anunciaba que ***\"España cierra 2022 con la mayor cifra de muertos en accidentes de tráfico desde 2019\"*** https://www.ondacero.es/noticias/sociedad/espana-cierra-2022-mayor-cifra-muertos-accidentes-trafico-2019_2023010963bbf163a040f60001a378a0.html\n",
    "\n",
    "- El pasado 19 de diciembre de 2022, El Confidencial publicaba un artículo sobre ***los alarmantes datos de suicidios en España tras la pandemia, especialmente entre los jóvenes*** https://www.alimente.elconfidencial.com/bienestar/2022-12-19/aumentan-suicidios-pandemia-jovenes_3542638/"
   ]
  },
  {
   "cell_type": "markdown",
   "metadata": {},
   "source": [
    "## El presente Ánalisis Exploratorio de Datos se ha dividido en las siguientes fases:"
   ]
  },
  {
   "cell_type": "markdown",
   "metadata": {},
   "source": [
    "## ***1) Análisis de las principales causas de mortalidad en los últimos 10 años***\n",
    "\n",
    "Para comenzar el análisis, era primordial conocer en primera instancia cuáles habían sido las principales causas de mortalidad en los últimos años. \n",
    "\n",
    "A priori, en el análisis de estos datos se tuvo en consideración la muestra de todas las defunciones anuales sin descartar ningún rango de edad. Al encontrarnos con una población generalmente envejecida, un elevado porcentaje de defunciones correspondía a personas mayores y por ello, las principales causas de mortalidad resultantes se encontraban relacionadas con enfermedades comunes por la vejez.\n",
    "\n",
    "Por ello, se dio un reenfoque al análisis, centrándonos únicamente en las defunciones de las personas comprendidas entre los 20 y 34 años de edad.\n",
    "\n",
    "- En primer lugar, se obtuvieron diferentes datasets publicados en el Instituto Nacional de Estadística sobre las causas y el número de fallecimientos por año en España https://www.ine.es/dyngs/INEbase/es/operacion.htm?c=Estadistica_C&cid=1254736176780&menu=ultiDatos&idp=1254735573175\n",
    "\n",
    "- En segundo lugar, abrimos los archivos en VSCode con Pandas y los convertimos en DataFrames para la posterior limpieza y transformación de los datos. \n",
    "\n",
    "    Para más detalle, se recomienda acudir a la carpeta scr/notebooks/Análisis_principales_causas_mortalidad, donde se encuentran explicados en el Notebook los pasos seguidos y las pruebas realizadas hasta obtener los resultados finales.\n",
    "\n",
    "- En tercer lugar, creamos un DataFrame a modo resumen donde se recopilaban las 10 causas más comunes en el periodo comprendido desde 2012 hasta 2021. \n",
    "\n",
    "- En cuarto lugar, calculamos la representatividad de cada causa de mortalidad sobre el total de defunciones por año. \n",
    "\n",
    "**Las conclusiones extraídas en este apartado han sido las siguientes:**\n",
    "\n",
    "- En los últimos 10 años, el suicidio ha representado entre el 14,1% y 16,3% sobre el total de las defunciones de personas comprendidas entre los 20 y 34 años, alcanzando su máximo en 2021. \n",
    "    \n",
    "    Respecto al volumen total de fallecidos por esta causa, se ha situado entre 370 y 494 defunciones por año, alcanzando su máximo en 2012.\n",
    "\n",
    "- En los últimos 10 años, los accidentes de tráfico han representado entre el 10,8% y 16,5% sobre el total de las defunciones de personas comprendidas entre los 20 y 34 años, alcanzando su máximo en 2017. \n",
    "    \n",
    "    Respecto al volumen total de fallecidos por esta causa, se ha situado entre 288 y 421 defunciones por año, alcanzando su máximo en 2017.\n",
    "\n",
    "## ***2) Análisis de los fallecimientos causados por suicidios en los últimos 10 años***\n",
    "\n",
    "Tras conocer que el suicidio es la principal causa de defunción en los jóvenes de España, hemos consultado diferentes artículos y titulares de noticias relacionados con aspectos que podrían influir en que la tasa sea notablemente alta.\n",
    "\n",
    "- El 15 de marzo de 2023, el periódico La Vanguardia publicó que según un estudio uno de cada cuatro jóvenes españoles va al psicólogo o al psiquiatra https://www.lavanguardia.com/vida/20230315/8825869/cuatro-espanoles-psicologo-psiquiatra.html\n",
    "\n",
    "- El 12 de marzo de 2023, el periódico El Comercio publicó un artículo sobre el «Aluvión» de ansiedad y depresión en los jóvenes https://www.elcomercio.es/asturias/aluvion-ansiedad-depresion-jovenes-salud-mental-20230312035956-nt.html\n",
    "\n",
    "\n",
    "\n",
    "### *El 23 de febrero de 2023, la Confederación de Nuevas tecnologías y redes sociales realizó un reportaje sobre el impacto para la salud mental del abuso de las nuevas tecnologías https://consaludmental.org/sala-prensa/nuevas-tecnologias-redes-sociales-salud-mental/*\n",
    "\n",
    "Al no contar con información disponible sobre este tema, decidí realizar una encuesta para obtener una serie de datos que nos permitieran tener una idea general sobre esta cuestión.\n",
    "\n",
    "#### **Encuesta**\n",
    "\n",
    "1) En primer lugar, como punto de partida, realizamos una encuesta a un total de 100 participantes sobre aspectos relacionados con la salud mental y recopilamos en un archivo csv las respuestas de cada uno de ellos.\n",
    "\n",
    "2) En segundo lugar, abrimos el archivo en VSCode con Pandas y lo convertimo en un DataFrame para la posterior limpieza y transformación de los datos. \n",
    "\n",
    "    Para más detalle, se recomienda acudir a la carpeta scr/notebooks/Encuesta_RRSSysaludmental, donde se encuentran explicados en el Notebook los pasos seguidos y las pruebas realizadas hasta obtener los resultados finales.\n",
    "\n",
    "3) Por último, recopilamos las respuestas de los participantes para tener una visión global de la opinión de las personas encuestadas.\n",
    "\n",
    "**Los resultados de la encuesta han sido los siguientes:**\n",
    "\n",
    "- De los 87 participantes (esto es, la muestra de personas menores de 35 años), únicamente el 20,7% afirma no haberse comparado con nadie en RRSS, mientras que el 79,3% restante si lo ha hecho en alguna ocasión.\n",
    "\n",
    "- De los 69 participantes que se han comparado con alguien en RRSS en alguna ocasión, el 89,85% afirma que han sentido complejo de inferioridad al hacerlo en alguna ocasión.\n",
    "\n",
    "- De los 87 participantes, el 89,65% afirma que las RRSS influencian en la toma de sus decisiones.\n",
    "\n",
    "- De los 71 participantes que han respondido a esta cuestión, el 26,76% afirma que son incapaces de estar sin RRSS, el 46,48% afirma que han sido capaces de estar sin RRSS durante una semana y el 26,76% restante afirma que han sido capaces de estar sin RRSS más de un mes.\n",
    "\n",
    "- De los 87 participantes, el 96,55% considera que estar sin RRSS resulta beneficioso para su salud mental.\n",
    "\n",
    "- De los 83 participantes que han respondido a esta cuestión, el 61,45% considera que las personas que le rodean no tienen una buena salud mental.\n",
    "\n",
    "- De los 87 participantes, únicamente el 4,6% no aceptaría obtener ayuda en caso de tener algún síntoma de depresión, un 83,9% estaría dispuesto a acudir a un psicólogo y el 11,5% estaría dispuesto a acudir a un psiquiatra.\n",
    "\n",
    "**Las conclusiones de la encuesta han sido las siguientes:**\n",
    "\n",
    "1) La gran mayoría de jóvenes se comparan constamente con lo que publican las personas que les rodean en RRSS y sienten un complejo de inferioridad al hacerlo.\n",
    "\n",
    "2) A pesar de que la gran mayoría considere que resulta beneficioso para la salud mental estar desconectado de RRSS, se sienten generalmente incapaces.\n",
    "\n",
    "3) Más de la mitad de jóvenes consideran que las personas que les rodean no gozan de una buena salud mental.\n",
    "\n",
    "4) Una gran mayoría acudiría a un psicólogo en caso de tener síntomas relacionados con la depresión, pero a penas el 12% estarían dispuestos a acudir al psiquiatra.\n"
   ]
  },
  {
   "cell_type": "markdown",
   "metadata": {},
   "source": [
    "## ***3) Análisis de los fallecimientos producidos por accidentes de tráfico en los últimos 10 años***\n",
    "\n"
   ]
  },
  {
   "cell_type": "markdown",
   "metadata": {},
   "source": [
    "## ***4) Contraste de los resultados con los titulares de los periódicos***"
   ]
  }
 ],
 "metadata": {
  "kernelspec": {
   "display_name": "Python 3 (ipykernel)",
   "language": "python",
   "name": "python3"
  },
  "language_info": {
   "codemirror_mode": {
    "name": "ipython",
    "version": 3
   },
   "file_extension": ".py",
   "mimetype": "text/x-python",
   "name": "python",
   "nbconvert_exporter": "python",
   "pygments_lexer": "ipython3",
   "version": "3.9.16"
  }
 },
 "nbformat": 4,
 "nbformat_minor": 2
}
