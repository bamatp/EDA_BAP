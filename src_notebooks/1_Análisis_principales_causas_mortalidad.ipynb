{
 "cells": [
  {
   "cell_type": "markdown",
   "metadata": {},
   "source": [
    "# ***Análisis de las principales causas de mortalidad de los jóvenes en España en los últimos diez años (2012 - 2021)***"
   ]
  },
  {
   "cell_type": "markdown",
   "metadata": {},
   "source": [
    "#### **Obtención y transformación de datos de las principales causas de mortalidad en 2021 de personas entre 20 y 34 años en España** \n",
    "##### Se explican únicamente los pasos efectuados en el dataset del año 2021, ya que en el resto de años se ha seguido el mismo procedimiento para la obtención de los datos"
   ]
  },
  {
   "cell_type": "code",
   "execution_count": 2,
   "metadata": {},
   "outputs": [],
   "source": [
    "import pandas as pd"
   ]
  },
  {
   "cell_type": "code",
   "execution_count": 3,
   "metadata": {},
   "outputs": [
    {
     "name": "stdout",
     "output_type": "stream",
     "text": [
      "Requirement already satisfied: openpyxl in c:\\users\\beama\\anaconda3\\envs\\ramp_up\\lib\\site-packages (3.1.1)\n",
      "Requirement already satisfied: et-xmlfile in c:\\users\\beama\\anaconda3\\envs\\ramp_up\\lib\\site-packages (from openpyxl) (1.1.0)\n",
      "Note: you may need to restart the kernel to use updated packages.\n"
     ]
    }
   ],
   "source": [
    "pip install openpyxl"
   ]
  },
  {
   "cell_type": "code",
   "execution_count": 4,
   "metadata": {},
   "outputs": [
    {
     "name": "stderr",
     "output_type": "stream",
     "text": [
      "C:\\Users\\beama\\AppData\\Local\\Temp\\ipykernel_7404\\3914692430.py:26: FutureWarning: Dropping of nuisance columns in DataFrame reductions (with 'numeric_only=None') is deprecated; in a future version this will raise TypeError.  Select only valid columns before calling the reduction.\n",
      "  mortalidad2021_20['Total'] = mortalidad2021_20.sum(axis=1)\n",
      "C:\\Users\\beama\\AppData\\Local\\Temp\\ipykernel_7404\\3914692430.py:26: SettingWithCopyWarning: \n",
      "A value is trying to be set on a copy of a slice from a DataFrame.\n",
      "Try using .loc[row_indexer,col_indexer] = value instead\n",
      "\n",
      "See the caveats in the documentation: https://pandas.pydata.org/pandas-docs/stable/user_guide/indexing.html#returning-a-view-versus-a-copy\n",
      "  mortalidad2021_20['Total'] = mortalidad2021_20.sum(axis=1)\n",
      "C:\\Users\\beama\\AppData\\Local\\Temp\\ipykernel_7404\\3914692430.py:34: SettingWithCopyWarning: \n",
      "A value is trying to be set on a copy of a slice from a DataFrame.\n",
      "Try using .loc[row_indexer,col_indexer] = value instead\n",
      "\n",
      "See the caveats in the documentation: https://pandas.pydata.org/pandas-docs/stable/user_guide/indexing.html#returning-a-view-versus-a-copy\n",
      "  mortalidad2021_20['Porcentaje'] = (mortalidad2021_20['Total']/total2021)*100\n"
     ]
    }
   ],
   "source": [
    "\"\"\"En primer lugar, abrimos el archivo excel descargado de la página web del Instituto Nacional de Estadística \n",
    "https://www.ine.es/dyngs/INEbase/es/operacion.htm?c=Estadistica_C&cid=1254736176780&menu=ultiDatos&idp=1254735573175\"\"\"\n",
    "\n",
    "mortalidad2021 = pd.read_excel(\"C:\\\\Users\\\\beama\\\\Desktop\\\\Repositorio_DataScience\\\\MORTALIDAD_ESPAÑA\\\\muertes2021.xlsx\")\n",
    "\n",
    "\"\"\"En segundo lugar, renombramos el título vacío de la columna donde aparecen recopiladas todas las enfermedades \n",
    "por la palabra 2021 para identificar el año objeto de estudio.\"\"\"\n",
    "\n",
    "mortalidad2021 = mortalidad2021.rename(columns= {\" \" : \"2021\"})\n",
    "\n",
    "\"\"\"En tercer lugar, creamos un filtro en el que la condición del número de fallecidos por enfermedad sea diferente \n",
    "a cero para manipular los diferentes datos correctamente.\"\"\"\n",
    "\n",
    "mortalidad_condicion = mortalidad2021['De 20 a 24 años'] != 0\n",
    "mortalidad_condicion2 = mortalidad2021['De 25 a 29 años'] != 0\n",
    "mortalidad_condicion3 = mortalidad2021['De 30 a 34 años'] != 0\n",
    "\n",
    "\"\"\"En cuarto lugar, aplicamos el filtro mencionado al dataset que vamos a utilizar para el análisis de los datos.\"\"\"\n",
    "\n",
    "mortalidad2021_20 = mortalidad2021[mortalidad_condicion]\n",
    "mortalidad2021_20 = mortalidad2021[mortalidad_condicion2]\n",
    "mortalidad2021_20 = mortalidad2021[mortalidad_condicion3]\n",
    "\n",
    "\"\"\"En quinto lugar, añadimos una columna en la que aparezca la suma del total de fallecidos por tipo de enfermedad.\"\"\"\n",
    "\n",
    "mortalidad2021_20['Total'] = mortalidad2021_20.sum(axis=1)\n",
    "mortalidad2021_20\n",
    "\n",
    "\"\"\"En sexto lugar, obtenemos el total de fallecidos por año y divididimos el número de fallecidos por tipo de enfermedad \n",
    "entre el total, para conocer la representatividad de cada causa sobre el total de defunciones.\"\"\"\n",
    "\n",
    "total2021 = mortalidad2021_20['Total'].sum()\n",
    "\n",
    "mortalidad2021_20['Porcentaje'] = (mortalidad2021_20['Total']/total2021)*100\n",
    "mortalidad2021_20\n",
    "\n",
    "\"\"\"En séptimo lugar, ordenamos de mayor a menor las enfermedades por el total de personas fallecidas.\"\"\"\n",
    "\n",
    "mortalidad2021_20 = mortalidad2021_20.sort_values(by='Total', ascending = False)\n",
    "\n",
    "\"\"\"En octavo lugar, obtenemos las diez enfermedades que han causado más defunciones en el año en cuestión.\"\"\"\n",
    "\n",
    "top10_2021 = mortalidad2021_20.head(10)\n",
    "\n",
    "\"\"\"En noveno lugar, reseteamos el índice para que nos aparezcan las diez enfermedades ordenadas del 1 al 10.\"\"\"\n",
    "\n",
    "top10_2021 = top10_2021.reset_index()\n",
    "top10_2021.index += 1\n",
    "\n",
    "\"\"\"En décimo lugar, nos quedamos con últimas cinco columnas y descartamos la que contiene los índices iniciales por defecto.\"\"\"\n",
    "\n",
    "top10_2021 = top10_2021.iloc[:, [1, 5]]\n",
    "\n",
    "\"\"\"En undécimo lugar, eliminamos los 4 primeros carácteres de las celdas de la columna donde aparecen las enfermedades para \n",
    "eliminar los dígitos que aparecían por defecto en el dataset del INE.\"\"\"\n",
    "\n",
    "top10_2021['2021'] = top10_2021['2021'].str.slice(start=4)"
   ]
  },
  {
   "cell_type": "markdown",
   "metadata": {},
   "source": [
    "#### **Comprobaciones realizadas** \n",
    "\n",
    "##### Se muestran únicamente las comprobaciones de los datos correspondientes al año 2021, ya que en el resto de años se ha seguido el mismo procedimiento para la limpieza y manipulación de los datos"
   ]
  },
  {
   "cell_type": "markdown",
   "metadata": {},
   "source": [
    "1) Lectura del archivo xlsx"
   ]
  },
  {
   "cell_type": "code",
   "execution_count": 5,
   "metadata": {},
   "outputs": [
    {
     "data": {
      "text/html": [
       "<div>\n",
       "<style scoped>\n",
       "    .dataframe tbody tr th:only-of-type {\n",
       "        vertical-align: middle;\n",
       "    }\n",
       "\n",
       "    .dataframe tbody tr th {\n",
       "        vertical-align: top;\n",
       "    }\n",
       "\n",
       "    .dataframe thead th {\n",
       "        text-align: right;\n",
       "    }\n",
       "</style>\n",
       "<table border=\"1\" class=\"dataframe\">\n",
       "  <thead>\n",
       "    <tr style=\"text-align: right;\">\n",
       "      <th></th>\n",
       "      <th></th>\n",
       "      <th>De 20 a 24 años</th>\n",
       "      <th>De 25 a 29 años</th>\n",
       "      <th>De 30 a 34 años</th>\n",
       "    </tr>\n",
       "  </thead>\n",
       "  <tbody>\n",
       "    <tr>\n",
       "      <th>0</th>\n",
       "      <td>00A Covid-19 Virus identificado</td>\n",
       "      <td>16</td>\n",
       "      <td>30</td>\n",
       "      <td>63</td>\n",
       "    </tr>\n",
       "    <tr>\n",
       "      <th>1</th>\n",
       "      <td>00B Covid-19 Virus no identificado (sospechoso)</td>\n",
       "      <td>0</td>\n",
       "      <td>2</td>\n",
       "      <td>0</td>\n",
       "    </tr>\n",
       "    <tr>\n",
       "      <th>2</th>\n",
       "      <td>00C Síndrome inflamatorio multisistémico asoci...</td>\n",
       "      <td>0</td>\n",
       "      <td>0</td>\n",
       "      <td>0</td>\n",
       "    </tr>\n",
       "    <tr>\n",
       "      <th>3</th>\n",
       "      <td>001 Enfermedades infecciosas intestinales</td>\n",
       "      <td>0</td>\n",
       "      <td>0</td>\n",
       "      <td>0</td>\n",
       "    </tr>\n",
       "    <tr>\n",
       "      <th>4</th>\n",
       "      <td>002 Tuberculosis y sus efectos tardíos</td>\n",
       "      <td>0</td>\n",
       "      <td>2</td>\n",
       "      <td>2</td>\n",
       "    </tr>\n",
       "    <tr>\n",
       "      <th>...</th>\n",
       "      <td>...</td>\n",
       "      <td>...</td>\n",
       "      <td>...</td>\n",
       "      <td>...</td>\n",
       "    </tr>\n",
       "    <tr>\n",
       "      <th>101</th>\n",
       "      <td>098 Suicidio y lesiones autoinfligidas</td>\n",
       "      <td>126</td>\n",
       "      <td>137</td>\n",
       "      <td>185</td>\n",
       "    </tr>\n",
       "    <tr>\n",
       "      <th>102</th>\n",
       "      <td>099  Agresiones (Homicidio)</td>\n",
       "      <td>16</td>\n",
       "      <td>14</td>\n",
       "      <td>21</td>\n",
       "    </tr>\n",
       "    <tr>\n",
       "      <th>103</th>\n",
       "      <td>100 Eventos de intención no determinada</td>\n",
       "      <td>0</td>\n",
       "      <td>2</td>\n",
       "      <td>2</td>\n",
       "    </tr>\n",
       "    <tr>\n",
       "      <th>104</th>\n",
       "      <td>101 Complicaciones de la atención médica y qui...</td>\n",
       "      <td>0</td>\n",
       "      <td>1</td>\n",
       "      <td>1</td>\n",
       "    </tr>\n",
       "    <tr>\n",
       "      <th>105</th>\n",
       "      <td>102 Otras causas externas y sus efectos tardíos</td>\n",
       "      <td>0</td>\n",
       "      <td>0</td>\n",
       "      <td>2</td>\n",
       "    </tr>\n",
       "  </tbody>\n",
       "</table>\n",
       "<p>106 rows × 4 columns</p>\n",
       "</div>"
      ],
      "text/plain": [
       "                                                        De 20 a 24 años  \\\n",
       "0                      00A Covid-19 Virus identificado               16   \n",
       "1      00B Covid-19 Virus no identificado (sospechoso)                0   \n",
       "2    00C Síndrome inflamatorio multisistémico asoci...                0   \n",
       "3            001 Enfermedades infecciosas intestinales                0   \n",
       "4               002 Tuberculosis y sus efectos tardíos                0   \n",
       "..                                                 ...              ...   \n",
       "101             098 Suicidio y lesiones autoinfligidas              126   \n",
       "102                        099  Agresiones (Homicidio)               16   \n",
       "103            100 Eventos de intención no determinada                0   \n",
       "104  101 Complicaciones de la atención médica y qui...                0   \n",
       "105    102 Otras causas externas y sus efectos tardíos                0   \n",
       "\n",
       "     De 25 a 29 años  De 30 a 34 años  \n",
       "0                 30               63  \n",
       "1                  2                0  \n",
       "2                  0                0  \n",
       "3                  0                0  \n",
       "4                  2                2  \n",
       "..               ...              ...  \n",
       "101              137              185  \n",
       "102               14               21  \n",
       "103                2                2  \n",
       "104                1                1  \n",
       "105                0                2  \n",
       "\n",
       "[106 rows x 4 columns]"
      ]
     },
     "execution_count": 5,
     "metadata": {},
     "output_type": "execute_result"
    }
   ],
   "source": [
    "mortalidad2021 = pd.read_excel(\"muertes2021.xlsx\")\n",
    "mortalidad2021"
   ]
  },
  {
   "cell_type": "markdown",
   "metadata": {},
   "source": [
    "2) Renombre de columnas"
   ]
  },
  {
   "cell_type": "code",
   "execution_count": 6,
   "metadata": {},
   "outputs": [
    {
     "data": {
      "text/html": [
       "<div>\n",
       "<style scoped>\n",
       "    .dataframe tbody tr th:only-of-type {\n",
       "        vertical-align: middle;\n",
       "    }\n",
       "\n",
       "    .dataframe tbody tr th {\n",
       "        vertical-align: top;\n",
       "    }\n",
       "\n",
       "    .dataframe thead th {\n",
       "        text-align: right;\n",
       "    }\n",
       "</style>\n",
       "<table border=\"1\" class=\"dataframe\">\n",
       "  <thead>\n",
       "    <tr style=\"text-align: right;\">\n",
       "      <th></th>\n",
       "      <th>2021</th>\n",
       "      <th>De 20 a 24 años</th>\n",
       "      <th>De 25 a 29 años</th>\n",
       "      <th>De 30 a 34 años</th>\n",
       "    </tr>\n",
       "  </thead>\n",
       "  <tbody>\n",
       "    <tr>\n",
       "      <th>0</th>\n",
       "      <td>00A Covid-19 Virus identificado</td>\n",
       "      <td>16</td>\n",
       "      <td>30</td>\n",
       "      <td>63</td>\n",
       "    </tr>\n",
       "    <tr>\n",
       "      <th>1</th>\n",
       "      <td>00B Covid-19 Virus no identificado (sospechoso)</td>\n",
       "      <td>0</td>\n",
       "      <td>2</td>\n",
       "      <td>0</td>\n",
       "    </tr>\n",
       "    <tr>\n",
       "      <th>2</th>\n",
       "      <td>00C Síndrome inflamatorio multisistémico asoci...</td>\n",
       "      <td>0</td>\n",
       "      <td>0</td>\n",
       "      <td>0</td>\n",
       "    </tr>\n",
       "    <tr>\n",
       "      <th>3</th>\n",
       "      <td>001 Enfermedades infecciosas intestinales</td>\n",
       "      <td>0</td>\n",
       "      <td>0</td>\n",
       "      <td>0</td>\n",
       "    </tr>\n",
       "    <tr>\n",
       "      <th>4</th>\n",
       "      <td>002 Tuberculosis y sus efectos tardíos</td>\n",
       "      <td>0</td>\n",
       "      <td>2</td>\n",
       "      <td>2</td>\n",
       "    </tr>\n",
       "    <tr>\n",
       "      <th>...</th>\n",
       "      <td>...</td>\n",
       "      <td>...</td>\n",
       "      <td>...</td>\n",
       "      <td>...</td>\n",
       "    </tr>\n",
       "    <tr>\n",
       "      <th>101</th>\n",
       "      <td>098 Suicidio y lesiones autoinfligidas</td>\n",
       "      <td>126</td>\n",
       "      <td>137</td>\n",
       "      <td>185</td>\n",
       "    </tr>\n",
       "    <tr>\n",
       "      <th>102</th>\n",
       "      <td>099  Agresiones (Homicidio)</td>\n",
       "      <td>16</td>\n",
       "      <td>14</td>\n",
       "      <td>21</td>\n",
       "    </tr>\n",
       "    <tr>\n",
       "      <th>103</th>\n",
       "      <td>100 Eventos de intención no determinada</td>\n",
       "      <td>0</td>\n",
       "      <td>2</td>\n",
       "      <td>2</td>\n",
       "    </tr>\n",
       "    <tr>\n",
       "      <th>104</th>\n",
       "      <td>101 Complicaciones de la atención médica y qui...</td>\n",
       "      <td>0</td>\n",
       "      <td>1</td>\n",
       "      <td>1</td>\n",
       "    </tr>\n",
       "    <tr>\n",
       "      <th>105</th>\n",
       "      <td>102 Otras causas externas y sus efectos tardíos</td>\n",
       "      <td>0</td>\n",
       "      <td>0</td>\n",
       "      <td>2</td>\n",
       "    </tr>\n",
       "  </tbody>\n",
       "</table>\n",
       "<p>106 rows × 4 columns</p>\n",
       "</div>"
      ],
      "text/plain": [
       "                                                  2021  De 20 a 24 años  \\\n",
       "0                      00A Covid-19 Virus identificado               16   \n",
       "1      00B Covid-19 Virus no identificado (sospechoso)                0   \n",
       "2    00C Síndrome inflamatorio multisistémico asoci...                0   \n",
       "3            001 Enfermedades infecciosas intestinales                0   \n",
       "4               002 Tuberculosis y sus efectos tardíos                0   \n",
       "..                                                 ...              ...   \n",
       "101             098 Suicidio y lesiones autoinfligidas              126   \n",
       "102                        099  Agresiones (Homicidio)               16   \n",
       "103            100 Eventos de intención no determinada                0   \n",
       "104  101 Complicaciones de la atención médica y qui...                0   \n",
       "105    102 Otras causas externas y sus efectos tardíos                0   \n",
       "\n",
       "     De 25 a 29 años  De 30 a 34 años  \n",
       "0                 30               63  \n",
       "1                  2                0  \n",
       "2                  0                0  \n",
       "3                  0                0  \n",
       "4                  2                2  \n",
       "..               ...              ...  \n",
       "101              137              185  \n",
       "102               14               21  \n",
       "103                2                2  \n",
       "104                1                1  \n",
       "105                0                2  \n",
       "\n",
       "[106 rows x 4 columns]"
      ]
     },
     "execution_count": 6,
     "metadata": {},
     "output_type": "execute_result"
    }
   ],
   "source": [
    "mortalidad2021 = mortalidad2021.rename(columns= {\" \" : \"2021\"})\n",
    "mortalidad2021"
   ]
  },
  {
   "cell_type": "markdown",
   "metadata": {},
   "source": [
    "3) Creación de un filtro que contabilice las celdas en las que el número de fallecidos sea diferente a 0"
   ]
  },
  {
   "cell_type": "code",
   "execution_count": 7,
   "metadata": {},
   "outputs": [],
   "source": [
    "mortalidad_condicion = mortalidad2021['De 20 a 24 años'] != 0\n",
    "mortalidad_condicion2 = mortalidad2021['De 25 a 29 años'] != 0\n",
    "mortalidad_condicion3 = mortalidad2021['De 30 a 34 años'] != 0"
   ]
  },
  {
   "cell_type": "markdown",
   "metadata": {},
   "source": [
    "4) Aplicación del filtro definido"
   ]
  },
  {
   "cell_type": "code",
   "execution_count": 8,
   "metadata": {},
   "outputs": [],
   "source": [
    "mortalidad2021_20 = mortalidad2021[mortalidad_condicion]\n",
    "mortalidad2021_20 = mortalidad2021[mortalidad_condicion2]\n",
    "mortalidad2021_20 = mortalidad2021[mortalidad_condicion3]"
   ]
  },
  {
   "cell_type": "markdown",
   "metadata": {},
   "source": [
    "5) Contabilización del total de fallecidos por causa"
   ]
  },
  {
   "cell_type": "code",
   "execution_count": 9,
   "metadata": {},
   "outputs": [
    {
     "name": "stderr",
     "output_type": "stream",
     "text": [
      "C:\\Users\\beama\\AppData\\Local\\Temp\\ipykernel_7404\\1460552685.py:1: FutureWarning: Dropping of nuisance columns in DataFrame reductions (with 'numeric_only=None') is deprecated; in a future version this will raise TypeError.  Select only valid columns before calling the reduction.\n",
      "  mortalidad2021_20['Total'] = mortalidad2021_20.sum(axis=1)\n",
      "C:\\Users\\beama\\AppData\\Local\\Temp\\ipykernel_7404\\1460552685.py:1: SettingWithCopyWarning: \n",
      "A value is trying to be set on a copy of a slice from a DataFrame.\n",
      "Try using .loc[row_indexer,col_indexer] = value instead\n",
      "\n",
      "See the caveats in the documentation: https://pandas.pydata.org/pandas-docs/stable/user_guide/indexing.html#returning-a-view-versus-a-copy\n",
      "  mortalidad2021_20['Total'] = mortalidad2021_20.sum(axis=1)\n"
     ]
    },
    {
     "data": {
      "text/html": [
       "<div>\n",
       "<style scoped>\n",
       "    .dataframe tbody tr th:only-of-type {\n",
       "        vertical-align: middle;\n",
       "    }\n",
       "\n",
       "    .dataframe tbody tr th {\n",
       "        vertical-align: top;\n",
       "    }\n",
       "\n",
       "    .dataframe thead th {\n",
       "        text-align: right;\n",
       "    }\n",
       "</style>\n",
       "<table border=\"1\" class=\"dataframe\">\n",
       "  <thead>\n",
       "    <tr style=\"text-align: right;\">\n",
       "      <th></th>\n",
       "      <th>2021</th>\n",
       "      <th>De 20 a 24 años</th>\n",
       "      <th>De 25 a 29 años</th>\n",
       "      <th>De 30 a 34 años</th>\n",
       "      <th>Total</th>\n",
       "    </tr>\n",
       "  </thead>\n",
       "  <tbody>\n",
       "    <tr>\n",
       "      <th>0</th>\n",
       "      <td>00A Covid-19 Virus identificado</td>\n",
       "      <td>16</td>\n",
       "      <td>30</td>\n",
       "      <td>63</td>\n",
       "      <td>109</td>\n",
       "    </tr>\n",
       "    <tr>\n",
       "      <th>4</th>\n",
       "      <td>002 Tuberculosis y sus efectos tardíos</td>\n",
       "      <td>0</td>\n",
       "      <td>2</td>\n",
       "      <td>2</td>\n",
       "      <td>4</td>\n",
       "    </tr>\n",
       "    <tr>\n",
       "      <th>6</th>\n",
       "      <td>004 Septicemia</td>\n",
       "      <td>1</td>\n",
       "      <td>1</td>\n",
       "      <td>4</td>\n",
       "      <td>6</td>\n",
       "    </tr>\n",
       "    <tr>\n",
       "      <th>7</th>\n",
       "      <td>005 Hepatitis vírica</td>\n",
       "      <td>0</td>\n",
       "      <td>0</td>\n",
       "      <td>3</td>\n",
       "      <td>3</td>\n",
       "    </tr>\n",
       "    <tr>\n",
       "      <th>8</th>\n",
       "      <td>006 SIDA</td>\n",
       "      <td>3</td>\n",
       "      <td>1</td>\n",
       "      <td>7</td>\n",
       "      <td>11</td>\n",
       "    </tr>\n",
       "    <tr>\n",
       "      <th>...</th>\n",
       "      <td>...</td>\n",
       "      <td>...</td>\n",
       "      <td>...</td>\n",
       "      <td>...</td>\n",
       "      <td>...</td>\n",
       "    </tr>\n",
       "    <tr>\n",
       "      <th>101</th>\n",
       "      <td>098 Suicidio y lesiones autoinfligidas</td>\n",
       "      <td>126</td>\n",
       "      <td>137</td>\n",
       "      <td>185</td>\n",
       "      <td>448</td>\n",
       "    </tr>\n",
       "    <tr>\n",
       "      <th>102</th>\n",
       "      <td>099  Agresiones (Homicidio)</td>\n",
       "      <td>16</td>\n",
       "      <td>14</td>\n",
       "      <td>21</td>\n",
       "      <td>51</td>\n",
       "    </tr>\n",
       "    <tr>\n",
       "      <th>103</th>\n",
       "      <td>100 Eventos de intención no determinada</td>\n",
       "      <td>0</td>\n",
       "      <td>2</td>\n",
       "      <td>2</td>\n",
       "      <td>4</td>\n",
       "    </tr>\n",
       "    <tr>\n",
       "      <th>104</th>\n",
       "      <td>101 Complicaciones de la atención médica y qui...</td>\n",
       "      <td>0</td>\n",
       "      <td>1</td>\n",
       "      <td>1</td>\n",
       "      <td>2</td>\n",
       "    </tr>\n",
       "    <tr>\n",
       "      <th>105</th>\n",
       "      <td>102 Otras causas externas y sus efectos tardíos</td>\n",
       "      <td>0</td>\n",
       "      <td>0</td>\n",
       "      <td>2</td>\n",
       "      <td>2</td>\n",
       "    </tr>\n",
       "  </tbody>\n",
       "</table>\n",
       "<p>81 rows × 5 columns</p>\n",
       "</div>"
      ],
      "text/plain": [
       "                                                  2021  De 20 a 24 años  \\\n",
       "0                      00A Covid-19 Virus identificado               16   \n",
       "4               002 Tuberculosis y sus efectos tardíos                0   \n",
       "6                                       004 Septicemia                1   \n",
       "7                                 005 Hepatitis vírica                0   \n",
       "8                                             006 SIDA                3   \n",
       "..                                                 ...              ...   \n",
       "101             098 Suicidio y lesiones autoinfligidas              126   \n",
       "102                        099  Agresiones (Homicidio)               16   \n",
       "103            100 Eventos de intención no determinada                0   \n",
       "104  101 Complicaciones de la atención médica y qui...                0   \n",
       "105    102 Otras causas externas y sus efectos tardíos                0   \n",
       "\n",
       "     De 25 a 29 años  De 30 a 34 años  Total  \n",
       "0                 30               63    109  \n",
       "4                  2                2      4  \n",
       "6                  1                4      6  \n",
       "7                  0                3      3  \n",
       "8                  1                7     11  \n",
       "..               ...              ...    ...  \n",
       "101              137              185    448  \n",
       "102               14               21     51  \n",
       "103                2                2      4  \n",
       "104                1                1      2  \n",
       "105                0                2      2  \n",
       "\n",
       "[81 rows x 5 columns]"
      ]
     },
     "execution_count": 9,
     "metadata": {},
     "output_type": "execute_result"
    }
   ],
   "source": [
    "mortalidad2021_20['Total'] = mortalidad2021_20.sum(axis=1)\n",
    "mortalidad2021_20"
   ]
  },
  {
   "cell_type": "markdown",
   "metadata": {},
   "source": [
    "6) Contabilización del total de fallecidos y representatividad de cada causa sobre el total de defunciones"
   ]
  },
  {
   "cell_type": "code",
   "execution_count": 10,
   "metadata": {},
   "outputs": [
    {
     "name": "stderr",
     "output_type": "stream",
     "text": [
      "C:\\Users\\beama\\AppData\\Local\\Temp\\ipykernel_7404\\3079443300.py:3: SettingWithCopyWarning: \n",
      "A value is trying to be set on a copy of a slice from a DataFrame.\n",
      "Try using .loc[row_indexer,col_indexer] = value instead\n",
      "\n",
      "See the caveats in the documentation: https://pandas.pydata.org/pandas-docs/stable/user_guide/indexing.html#returning-a-view-versus-a-copy\n",
      "  mortalidad2021_20['Porcentaje'] = (mortalidad2021_20['Total']/total2021)*100\n"
     ]
    },
    {
     "data": {
      "text/html": [
       "<div>\n",
       "<style scoped>\n",
       "    .dataframe tbody tr th:only-of-type {\n",
       "        vertical-align: middle;\n",
       "    }\n",
       "\n",
       "    .dataframe tbody tr th {\n",
       "        vertical-align: top;\n",
       "    }\n",
       "\n",
       "    .dataframe thead th {\n",
       "        text-align: right;\n",
       "    }\n",
       "</style>\n",
       "<table border=\"1\" class=\"dataframe\">\n",
       "  <thead>\n",
       "    <tr style=\"text-align: right;\">\n",
       "      <th></th>\n",
       "      <th>2021</th>\n",
       "      <th>De 20 a 24 años</th>\n",
       "      <th>De 25 a 29 años</th>\n",
       "      <th>De 30 a 34 años</th>\n",
       "      <th>Total</th>\n",
       "      <th>Porcentaje</th>\n",
       "    </tr>\n",
       "  </thead>\n",
       "  <tbody>\n",
       "    <tr>\n",
       "      <th>0</th>\n",
       "      <td>00A Covid-19 Virus identificado</td>\n",
       "      <td>16</td>\n",
       "      <td>30</td>\n",
       "      <td>63</td>\n",
       "      <td>109</td>\n",
       "      <td>3.963636</td>\n",
       "    </tr>\n",
       "    <tr>\n",
       "      <th>4</th>\n",
       "      <td>002 Tuberculosis y sus efectos tardíos</td>\n",
       "      <td>0</td>\n",
       "      <td>2</td>\n",
       "      <td>2</td>\n",
       "      <td>4</td>\n",
       "      <td>0.145455</td>\n",
       "    </tr>\n",
       "    <tr>\n",
       "      <th>6</th>\n",
       "      <td>004 Septicemia</td>\n",
       "      <td>1</td>\n",
       "      <td>1</td>\n",
       "      <td>4</td>\n",
       "      <td>6</td>\n",
       "      <td>0.218182</td>\n",
       "    </tr>\n",
       "    <tr>\n",
       "      <th>7</th>\n",
       "      <td>005 Hepatitis vírica</td>\n",
       "      <td>0</td>\n",
       "      <td>0</td>\n",
       "      <td>3</td>\n",
       "      <td>3</td>\n",
       "      <td>0.109091</td>\n",
       "    </tr>\n",
       "    <tr>\n",
       "      <th>8</th>\n",
       "      <td>006 SIDA</td>\n",
       "      <td>3</td>\n",
       "      <td>1</td>\n",
       "      <td>7</td>\n",
       "      <td>11</td>\n",
       "      <td>0.400000</td>\n",
       "    </tr>\n",
       "    <tr>\n",
       "      <th>...</th>\n",
       "      <td>...</td>\n",
       "      <td>...</td>\n",
       "      <td>...</td>\n",
       "      <td>...</td>\n",
       "      <td>...</td>\n",
       "      <td>...</td>\n",
       "    </tr>\n",
       "    <tr>\n",
       "      <th>101</th>\n",
       "      <td>098 Suicidio y lesiones autoinfligidas</td>\n",
       "      <td>126</td>\n",
       "      <td>137</td>\n",
       "      <td>185</td>\n",
       "      <td>448</td>\n",
       "      <td>16.290909</td>\n",
       "    </tr>\n",
       "    <tr>\n",
       "      <th>102</th>\n",
       "      <td>099  Agresiones (Homicidio)</td>\n",
       "      <td>16</td>\n",
       "      <td>14</td>\n",
       "      <td>21</td>\n",
       "      <td>51</td>\n",
       "      <td>1.854545</td>\n",
       "    </tr>\n",
       "    <tr>\n",
       "      <th>103</th>\n",
       "      <td>100 Eventos de intención no determinada</td>\n",
       "      <td>0</td>\n",
       "      <td>2</td>\n",
       "      <td>2</td>\n",
       "      <td>4</td>\n",
       "      <td>0.145455</td>\n",
       "    </tr>\n",
       "    <tr>\n",
       "      <th>104</th>\n",
       "      <td>101 Complicaciones de la atención médica y qui...</td>\n",
       "      <td>0</td>\n",
       "      <td>1</td>\n",
       "      <td>1</td>\n",
       "      <td>2</td>\n",
       "      <td>0.072727</td>\n",
       "    </tr>\n",
       "    <tr>\n",
       "      <th>105</th>\n",
       "      <td>102 Otras causas externas y sus efectos tardíos</td>\n",
       "      <td>0</td>\n",
       "      <td>0</td>\n",
       "      <td>2</td>\n",
       "      <td>2</td>\n",
       "      <td>0.072727</td>\n",
       "    </tr>\n",
       "  </tbody>\n",
       "</table>\n",
       "<p>81 rows × 6 columns</p>\n",
       "</div>"
      ],
      "text/plain": [
       "                                                  2021  De 20 a 24 años  \\\n",
       "0                      00A Covid-19 Virus identificado               16   \n",
       "4               002 Tuberculosis y sus efectos tardíos                0   \n",
       "6                                       004 Septicemia                1   \n",
       "7                                 005 Hepatitis vírica                0   \n",
       "8                                             006 SIDA                3   \n",
       "..                                                 ...              ...   \n",
       "101             098 Suicidio y lesiones autoinfligidas              126   \n",
       "102                        099  Agresiones (Homicidio)               16   \n",
       "103            100 Eventos de intención no determinada                0   \n",
       "104  101 Complicaciones de la atención médica y qui...                0   \n",
       "105    102 Otras causas externas y sus efectos tardíos                0   \n",
       "\n",
       "     De 25 a 29 años  De 30 a 34 años  Total  Porcentaje  \n",
       "0                 30               63    109    3.963636  \n",
       "4                  2                2      4    0.145455  \n",
       "6                  1                4      6    0.218182  \n",
       "7                  0                3      3    0.109091  \n",
       "8                  1                7     11    0.400000  \n",
       "..               ...              ...    ...         ...  \n",
       "101              137              185    448   16.290909  \n",
       "102               14               21     51    1.854545  \n",
       "103                2                2      4    0.145455  \n",
       "104                1                1      2    0.072727  \n",
       "105                0                2      2    0.072727  \n",
       "\n",
       "[81 rows x 6 columns]"
      ]
     },
     "execution_count": 10,
     "metadata": {},
     "output_type": "execute_result"
    }
   ],
   "source": [
    "total2021 = mortalidad2021_20['Total'].sum()\n",
    "\n",
    "mortalidad2021_20['Porcentaje'] = (mortalidad2021_20['Total']/total2021)*100\n",
    "mortalidad2021_20"
   ]
  },
  {
   "cell_type": "markdown",
   "metadata": {},
   "source": [
    "7) Ordenación de las causas por el total de fallecidos por las mismas"
   ]
  },
  {
   "cell_type": "code",
   "execution_count": 11,
   "metadata": {},
   "outputs": [
    {
     "data": {
      "text/html": [
       "<div>\n",
       "<style scoped>\n",
       "    .dataframe tbody tr th:only-of-type {\n",
       "        vertical-align: middle;\n",
       "    }\n",
       "\n",
       "    .dataframe tbody tr th {\n",
       "        vertical-align: top;\n",
       "    }\n",
       "\n",
       "    .dataframe thead th {\n",
       "        text-align: right;\n",
       "    }\n",
       "</style>\n",
       "<table border=\"1\" class=\"dataframe\">\n",
       "  <thead>\n",
       "    <tr style=\"text-align: right;\">\n",
       "      <th></th>\n",
       "      <th>2021</th>\n",
       "      <th>De 20 a 24 años</th>\n",
       "      <th>De 25 a 29 años</th>\n",
       "      <th>De 30 a 34 años</th>\n",
       "      <th>Total</th>\n",
       "      <th>Porcentaje</th>\n",
       "    </tr>\n",
       "  </thead>\n",
       "  <tbody>\n",
       "    <tr>\n",
       "      <th>101</th>\n",
       "      <td>098 Suicidio y lesiones autoinfligidas</td>\n",
       "      <td>126</td>\n",
       "      <td>137</td>\n",
       "      <td>185</td>\n",
       "      <td>448</td>\n",
       "      <td>16.290909</td>\n",
       "    </tr>\n",
       "    <tr>\n",
       "      <th>93</th>\n",
       "      <td>090 Accidentes de tráfico</td>\n",
       "      <td>134</td>\n",
       "      <td>89</td>\n",
       "      <td>106</td>\n",
       "      <td>329</td>\n",
       "      <td>11.963636</td>\n",
       "    </tr>\n",
       "    <tr>\n",
       "      <th>98</th>\n",
       "      <td>095 Envenenamiento accidental por psicofármaco...</td>\n",
       "      <td>25</td>\n",
       "      <td>37</td>\n",
       "      <td>76</td>\n",
       "      <td>138</td>\n",
       "      <td>5.018182</td>\n",
       "    </tr>\n",
       "    <tr>\n",
       "      <th>96</th>\n",
       "      <td>093 Ahogamiento, sumersión y sofocación accide...</td>\n",
       "      <td>48</td>\n",
       "      <td>46</td>\n",
       "      <td>41</td>\n",
       "      <td>135</td>\n",
       "      <td>4.909091</td>\n",
       "    </tr>\n",
       "    <tr>\n",
       "      <th>0</th>\n",
       "      <td>00A Covid-19 Virus identificado</td>\n",
       "      <td>16</td>\n",
       "      <td>30</td>\n",
       "      <td>63</td>\n",
       "      <td>109</td>\n",
       "      <td>3.963636</td>\n",
       "    </tr>\n",
       "    <tr>\n",
       "      <th>...</th>\n",
       "      <td>...</td>\n",
       "      <td>...</td>\n",
       "      <td>...</td>\n",
       "      <td>...</td>\n",
       "      <td>...</td>\n",
       "      <td>...</td>\n",
       "    </tr>\n",
       "    <tr>\n",
       "      <th>27</th>\n",
       "      <td>025 Tumor maligno de otras partes del útero</td>\n",
       "      <td>0</td>\n",
       "      <td>1</td>\n",
       "      <td>1</td>\n",
       "      <td>2</td>\n",
       "      <td>0.072727</td>\n",
       "    </tr>\n",
       "    <tr>\n",
       "      <th>62</th>\n",
       "      <td>060 Aterosclerosis</td>\n",
       "      <td>0</td>\n",
       "      <td>0</td>\n",
       "      <td>1</td>\n",
       "      <td>1</td>\n",
       "      <td>0.036364</td>\n",
       "    </tr>\n",
       "    <tr>\n",
       "      <th>49</th>\n",
       "      <td>047 Trastornos mentales debidos al uso de alcohol</td>\n",
       "      <td>0</td>\n",
       "      <td>0</td>\n",
       "      <td>1</td>\n",
       "      <td>1</td>\n",
       "      <td>0.036364</td>\n",
       "    </tr>\n",
       "    <tr>\n",
       "      <th>42</th>\n",
       "      <td>040 Síndrome mielodisplásico</td>\n",
       "      <td>0</td>\n",
       "      <td>0</td>\n",
       "      <td>1</td>\n",
       "      <td>1</td>\n",
       "      <td>0.036364</td>\n",
       "    </tr>\n",
       "    <tr>\n",
       "      <th>55</th>\n",
       "      <td>053 Enfermedades cardíacas reumáticas crónicas</td>\n",
       "      <td>0</td>\n",
       "      <td>0</td>\n",
       "      <td>1</td>\n",
       "      <td>1</td>\n",
       "      <td>0.036364</td>\n",
       "    </tr>\n",
       "  </tbody>\n",
       "</table>\n",
       "<p>81 rows × 6 columns</p>\n",
       "</div>"
      ],
      "text/plain": [
       "                                                  2021  De 20 a 24 años  \\\n",
       "101             098 Suicidio y lesiones autoinfligidas              126   \n",
       "93                           090 Accidentes de tráfico              134   \n",
       "98   095 Envenenamiento accidental por psicofármaco...               25   \n",
       "96   093 Ahogamiento, sumersión y sofocación accide...               48   \n",
       "0                      00A Covid-19 Virus identificado               16   \n",
       "..                                                 ...              ...   \n",
       "27         025 Tumor maligno de otras partes del útero                0   \n",
       "62                                  060 Aterosclerosis                0   \n",
       "49   047 Trastornos mentales debidos al uso de alcohol                0   \n",
       "42                        040 Síndrome mielodisplásico                0   \n",
       "55      053 Enfermedades cardíacas reumáticas crónicas                0   \n",
       "\n",
       "     De 25 a 29 años  De 30 a 34 años  Total  Porcentaje  \n",
       "101              137              185    448   16.290909  \n",
       "93                89              106    329   11.963636  \n",
       "98                37               76    138    5.018182  \n",
       "96                46               41    135    4.909091  \n",
       "0                 30               63    109    3.963636  \n",
       "..               ...              ...    ...         ...  \n",
       "27                 1                1      2    0.072727  \n",
       "62                 0                1      1    0.036364  \n",
       "49                 0                1      1    0.036364  \n",
       "42                 0                1      1    0.036364  \n",
       "55                 0                1      1    0.036364  \n",
       "\n",
       "[81 rows x 6 columns]"
      ]
     },
     "execution_count": 11,
     "metadata": {},
     "output_type": "execute_result"
    }
   ],
   "source": [
    "mortalidad2021_20 = mortalidad2021_20.sort_values(by='Total', ascending = False)\n",
    "mortalidad2021_20"
   ]
  },
  {
   "cell_type": "markdown",
   "metadata": {},
   "source": [
    "8) Obtención de las 10 principales causas de mortalidad"
   ]
  },
  {
   "cell_type": "code",
   "execution_count": 12,
   "metadata": {},
   "outputs": [
    {
     "data": {
      "text/html": [
       "<div>\n",
       "<style scoped>\n",
       "    .dataframe tbody tr th:only-of-type {\n",
       "        vertical-align: middle;\n",
       "    }\n",
       "\n",
       "    .dataframe tbody tr th {\n",
       "        vertical-align: top;\n",
       "    }\n",
       "\n",
       "    .dataframe thead th {\n",
       "        text-align: right;\n",
       "    }\n",
       "</style>\n",
       "<table border=\"1\" class=\"dataframe\">\n",
       "  <thead>\n",
       "    <tr style=\"text-align: right;\">\n",
       "      <th></th>\n",
       "      <th>2021</th>\n",
       "      <th>De 20 a 24 años</th>\n",
       "      <th>De 25 a 29 años</th>\n",
       "      <th>De 30 a 34 años</th>\n",
       "      <th>Total</th>\n",
       "      <th>Porcentaje</th>\n",
       "    </tr>\n",
       "  </thead>\n",
       "  <tbody>\n",
       "    <tr>\n",
       "      <th>101</th>\n",
       "      <td>098 Suicidio y lesiones autoinfligidas</td>\n",
       "      <td>126</td>\n",
       "      <td>137</td>\n",
       "      <td>185</td>\n",
       "      <td>448</td>\n",
       "      <td>16.290909</td>\n",
       "    </tr>\n",
       "    <tr>\n",
       "      <th>93</th>\n",
       "      <td>090 Accidentes de tráfico</td>\n",
       "      <td>134</td>\n",
       "      <td>89</td>\n",
       "      <td>106</td>\n",
       "      <td>329</td>\n",
       "      <td>11.963636</td>\n",
       "    </tr>\n",
       "    <tr>\n",
       "      <th>98</th>\n",
       "      <td>095 Envenenamiento accidental por psicofármaco...</td>\n",
       "      <td>25</td>\n",
       "      <td>37</td>\n",
       "      <td>76</td>\n",
       "      <td>138</td>\n",
       "      <td>5.018182</td>\n",
       "    </tr>\n",
       "    <tr>\n",
       "      <th>96</th>\n",
       "      <td>093 Ahogamiento, sumersión y sofocación accide...</td>\n",
       "      <td>48</td>\n",
       "      <td>46</td>\n",
       "      <td>41</td>\n",
       "      <td>135</td>\n",
       "      <td>4.909091</td>\n",
       "    </tr>\n",
       "    <tr>\n",
       "      <th>0</th>\n",
       "      <td>00A Covid-19 Virus identificado</td>\n",
       "      <td>16</td>\n",
       "      <td>30</td>\n",
       "      <td>63</td>\n",
       "      <td>109</td>\n",
       "      <td>3.963636</td>\n",
       "    </tr>\n",
       "    <tr>\n",
       "      <th>54</th>\n",
       "      <td>052 Otras enfermedades del sistema nervioso y ...</td>\n",
       "      <td>32</td>\n",
       "      <td>36</td>\n",
       "      <td>39</td>\n",
       "      <td>107</td>\n",
       "      <td>3.890909</td>\n",
       "    </tr>\n",
       "    <tr>\n",
       "      <th>60</th>\n",
       "      <td>058 Otras enfermedades del corazón</td>\n",
       "      <td>26</td>\n",
       "      <td>34</td>\n",
       "      <td>37</td>\n",
       "      <td>97</td>\n",
       "      <td>3.527273</td>\n",
       "    </tr>\n",
       "    <tr>\n",
       "      <th>94</th>\n",
       "      <td>091 Otros accidentes de transporte</td>\n",
       "      <td>35</td>\n",
       "      <td>30</td>\n",
       "      <td>30</td>\n",
       "      <td>95</td>\n",
       "      <td>3.454545</td>\n",
       "    </tr>\n",
       "    <tr>\n",
       "      <th>95</th>\n",
       "      <td>092 Caídas accidentales</td>\n",
       "      <td>25</td>\n",
       "      <td>23</td>\n",
       "      <td>20</td>\n",
       "      <td>68</td>\n",
       "      <td>2.472727</td>\n",
       "    </tr>\n",
       "    <tr>\n",
       "      <th>39</th>\n",
       "      <td>037 Leucemia</td>\n",
       "      <td>21</td>\n",
       "      <td>17</td>\n",
       "      <td>30</td>\n",
       "      <td>68</td>\n",
       "      <td>2.472727</td>\n",
       "    </tr>\n",
       "  </tbody>\n",
       "</table>\n",
       "</div>"
      ],
      "text/plain": [
       "                                                  2021  De 20 a 24 años  \\\n",
       "101             098 Suicidio y lesiones autoinfligidas              126   \n",
       "93                           090 Accidentes de tráfico              134   \n",
       "98   095 Envenenamiento accidental por psicofármaco...               25   \n",
       "96   093 Ahogamiento, sumersión y sofocación accide...               48   \n",
       "0                      00A Covid-19 Virus identificado               16   \n",
       "54   052 Otras enfermedades del sistema nervioso y ...               32   \n",
       "60                  058 Otras enfermedades del corazón               26   \n",
       "94                  091 Otros accidentes de transporte               35   \n",
       "95                             092 Caídas accidentales               25   \n",
       "39                                        037 Leucemia               21   \n",
       "\n",
       "     De 25 a 29 años  De 30 a 34 años  Total  Porcentaje  \n",
       "101              137              185    448   16.290909  \n",
       "93                89              106    329   11.963636  \n",
       "98                37               76    138    5.018182  \n",
       "96                46               41    135    4.909091  \n",
       "0                 30               63    109    3.963636  \n",
       "54                36               39    107    3.890909  \n",
       "60                34               37     97    3.527273  \n",
       "94                30               30     95    3.454545  \n",
       "95                23               20     68    2.472727  \n",
       "39                17               30     68    2.472727  "
      ]
     },
     "execution_count": 12,
     "metadata": {},
     "output_type": "execute_result"
    }
   ],
   "source": [
    "top10_2021 = mortalidad2021_20.head(10)\n",
    "top10_2021"
   ]
  },
  {
   "cell_type": "markdown",
   "metadata": {},
   "source": [
    "9) Reseteo del índice para que aparezca el ranking de las 10 enfermedades ordenado de mayor a menor"
   ]
  },
  {
   "cell_type": "code",
   "execution_count": 13,
   "metadata": {},
   "outputs": [
    {
     "data": {
      "text/html": [
       "<div>\n",
       "<style scoped>\n",
       "    .dataframe tbody tr th:only-of-type {\n",
       "        vertical-align: middle;\n",
       "    }\n",
       "\n",
       "    .dataframe tbody tr th {\n",
       "        vertical-align: top;\n",
       "    }\n",
       "\n",
       "    .dataframe thead th {\n",
       "        text-align: right;\n",
       "    }\n",
       "</style>\n",
       "<table border=\"1\" class=\"dataframe\">\n",
       "  <thead>\n",
       "    <tr style=\"text-align: right;\">\n",
       "      <th></th>\n",
       "      <th>index</th>\n",
       "      <th>2021</th>\n",
       "      <th>De 20 a 24 años</th>\n",
       "      <th>De 25 a 29 años</th>\n",
       "      <th>De 30 a 34 años</th>\n",
       "      <th>Total</th>\n",
       "      <th>Porcentaje</th>\n",
       "    </tr>\n",
       "  </thead>\n",
       "  <tbody>\n",
       "    <tr>\n",
       "      <th>1</th>\n",
       "      <td>101</td>\n",
       "      <td>098 Suicidio y lesiones autoinfligidas</td>\n",
       "      <td>126</td>\n",
       "      <td>137</td>\n",
       "      <td>185</td>\n",
       "      <td>448</td>\n",
       "      <td>16.290909</td>\n",
       "    </tr>\n",
       "    <tr>\n",
       "      <th>2</th>\n",
       "      <td>93</td>\n",
       "      <td>090 Accidentes de tráfico</td>\n",
       "      <td>134</td>\n",
       "      <td>89</td>\n",
       "      <td>106</td>\n",
       "      <td>329</td>\n",
       "      <td>11.963636</td>\n",
       "    </tr>\n",
       "    <tr>\n",
       "      <th>3</th>\n",
       "      <td>98</td>\n",
       "      <td>095 Envenenamiento accidental por psicofármaco...</td>\n",
       "      <td>25</td>\n",
       "      <td>37</td>\n",
       "      <td>76</td>\n",
       "      <td>138</td>\n",
       "      <td>5.018182</td>\n",
       "    </tr>\n",
       "    <tr>\n",
       "      <th>4</th>\n",
       "      <td>96</td>\n",
       "      <td>093 Ahogamiento, sumersión y sofocación accide...</td>\n",
       "      <td>48</td>\n",
       "      <td>46</td>\n",
       "      <td>41</td>\n",
       "      <td>135</td>\n",
       "      <td>4.909091</td>\n",
       "    </tr>\n",
       "    <tr>\n",
       "      <th>5</th>\n",
       "      <td>0</td>\n",
       "      <td>00A Covid-19 Virus identificado</td>\n",
       "      <td>16</td>\n",
       "      <td>30</td>\n",
       "      <td>63</td>\n",
       "      <td>109</td>\n",
       "      <td>3.963636</td>\n",
       "    </tr>\n",
       "    <tr>\n",
       "      <th>6</th>\n",
       "      <td>54</td>\n",
       "      <td>052 Otras enfermedades del sistema nervioso y ...</td>\n",
       "      <td>32</td>\n",
       "      <td>36</td>\n",
       "      <td>39</td>\n",
       "      <td>107</td>\n",
       "      <td>3.890909</td>\n",
       "    </tr>\n",
       "    <tr>\n",
       "      <th>7</th>\n",
       "      <td>60</td>\n",
       "      <td>058 Otras enfermedades del corazón</td>\n",
       "      <td>26</td>\n",
       "      <td>34</td>\n",
       "      <td>37</td>\n",
       "      <td>97</td>\n",
       "      <td>3.527273</td>\n",
       "    </tr>\n",
       "    <tr>\n",
       "      <th>8</th>\n",
       "      <td>94</td>\n",
       "      <td>091 Otros accidentes de transporte</td>\n",
       "      <td>35</td>\n",
       "      <td>30</td>\n",
       "      <td>30</td>\n",
       "      <td>95</td>\n",
       "      <td>3.454545</td>\n",
       "    </tr>\n",
       "    <tr>\n",
       "      <th>9</th>\n",
       "      <td>95</td>\n",
       "      <td>092 Caídas accidentales</td>\n",
       "      <td>25</td>\n",
       "      <td>23</td>\n",
       "      <td>20</td>\n",
       "      <td>68</td>\n",
       "      <td>2.472727</td>\n",
       "    </tr>\n",
       "    <tr>\n",
       "      <th>10</th>\n",
       "      <td>39</td>\n",
       "      <td>037 Leucemia</td>\n",
       "      <td>21</td>\n",
       "      <td>17</td>\n",
       "      <td>30</td>\n",
       "      <td>68</td>\n",
       "      <td>2.472727</td>\n",
       "    </tr>\n",
       "  </tbody>\n",
       "</table>\n",
       "</div>"
      ],
      "text/plain": [
       "    index                                               2021  De 20 a 24 años  \\\n",
       "1     101             098 Suicidio y lesiones autoinfligidas              126   \n",
       "2      93                          090 Accidentes de tráfico              134   \n",
       "3      98  095 Envenenamiento accidental por psicofármaco...               25   \n",
       "4      96  093 Ahogamiento, sumersión y sofocación accide...               48   \n",
       "5       0                    00A Covid-19 Virus identificado               16   \n",
       "6      54  052 Otras enfermedades del sistema nervioso y ...               32   \n",
       "7      60                 058 Otras enfermedades del corazón               26   \n",
       "8      94                 091 Otros accidentes de transporte               35   \n",
       "9      95                            092 Caídas accidentales               25   \n",
       "10     39                                       037 Leucemia               21   \n",
       "\n",
       "    De 25 a 29 años  De 30 a 34 años  Total  Porcentaje  \n",
       "1               137              185    448   16.290909  \n",
       "2                89              106    329   11.963636  \n",
       "3                37               76    138    5.018182  \n",
       "4                46               41    135    4.909091  \n",
       "5                30               63    109    3.963636  \n",
       "6                36               39    107    3.890909  \n",
       "7                34               37     97    3.527273  \n",
       "8                30               30     95    3.454545  \n",
       "9                23               20     68    2.472727  \n",
       "10               17               30     68    2.472727  "
      ]
     },
     "execution_count": 13,
     "metadata": {},
     "output_type": "execute_result"
    }
   ],
   "source": [
    "top10_2021 = top10_2021.reset_index()\n",
    "top10_2021.index += 1\n",
    "\n",
    "top10_2021"
   ]
  },
  {
   "cell_type": "markdown",
   "metadata": {},
   "source": [
    "10. Eliminación de la columna del índice por defecto"
   ]
  },
  {
   "cell_type": "code",
   "execution_count": 14,
   "metadata": {},
   "outputs": [
    {
     "data": {
      "text/html": [
       "<div>\n",
       "<style scoped>\n",
       "    .dataframe tbody tr th:only-of-type {\n",
       "        vertical-align: middle;\n",
       "    }\n",
       "\n",
       "    .dataframe tbody tr th {\n",
       "        vertical-align: top;\n",
       "    }\n",
       "\n",
       "    .dataframe thead th {\n",
       "        text-align: right;\n",
       "    }\n",
       "</style>\n",
       "<table border=\"1\" class=\"dataframe\">\n",
       "  <thead>\n",
       "    <tr style=\"text-align: right;\">\n",
       "      <th></th>\n",
       "      <th>2021</th>\n",
       "      <th>Total</th>\n",
       "      <th>Porcentaje</th>\n",
       "    </tr>\n",
       "  </thead>\n",
       "  <tbody>\n",
       "    <tr>\n",
       "      <th>1</th>\n",
       "      <td>098 Suicidio y lesiones autoinfligidas</td>\n",
       "      <td>448</td>\n",
       "      <td>16.290909</td>\n",
       "    </tr>\n",
       "    <tr>\n",
       "      <th>2</th>\n",
       "      <td>090 Accidentes de tráfico</td>\n",
       "      <td>329</td>\n",
       "      <td>11.963636</td>\n",
       "    </tr>\n",
       "    <tr>\n",
       "      <th>3</th>\n",
       "      <td>095 Envenenamiento accidental por psicofármaco...</td>\n",
       "      <td>138</td>\n",
       "      <td>5.018182</td>\n",
       "    </tr>\n",
       "    <tr>\n",
       "      <th>4</th>\n",
       "      <td>093 Ahogamiento, sumersión y sofocación accide...</td>\n",
       "      <td>135</td>\n",
       "      <td>4.909091</td>\n",
       "    </tr>\n",
       "    <tr>\n",
       "      <th>5</th>\n",
       "      <td>00A Covid-19 Virus identificado</td>\n",
       "      <td>109</td>\n",
       "      <td>3.963636</td>\n",
       "    </tr>\n",
       "    <tr>\n",
       "      <th>6</th>\n",
       "      <td>052 Otras enfermedades del sistema nervioso y ...</td>\n",
       "      <td>107</td>\n",
       "      <td>3.890909</td>\n",
       "    </tr>\n",
       "    <tr>\n",
       "      <th>7</th>\n",
       "      <td>058 Otras enfermedades del corazón</td>\n",
       "      <td>97</td>\n",
       "      <td>3.527273</td>\n",
       "    </tr>\n",
       "    <tr>\n",
       "      <th>8</th>\n",
       "      <td>091 Otros accidentes de transporte</td>\n",
       "      <td>95</td>\n",
       "      <td>3.454545</td>\n",
       "    </tr>\n",
       "    <tr>\n",
       "      <th>9</th>\n",
       "      <td>092 Caídas accidentales</td>\n",
       "      <td>68</td>\n",
       "      <td>2.472727</td>\n",
       "    </tr>\n",
       "    <tr>\n",
       "      <th>10</th>\n",
       "      <td>037 Leucemia</td>\n",
       "      <td>68</td>\n",
       "      <td>2.472727</td>\n",
       "    </tr>\n",
       "  </tbody>\n",
       "</table>\n",
       "</div>"
      ],
      "text/plain": [
       "                                                 2021  Total  Porcentaje\n",
       "1              098 Suicidio y lesiones autoinfligidas    448   16.290909\n",
       "2                           090 Accidentes de tráfico    329   11.963636\n",
       "3   095 Envenenamiento accidental por psicofármaco...    138    5.018182\n",
       "4   093 Ahogamiento, sumersión y sofocación accide...    135    4.909091\n",
       "5                     00A Covid-19 Virus identificado    109    3.963636\n",
       "6   052 Otras enfermedades del sistema nervioso y ...    107    3.890909\n",
       "7                  058 Otras enfermedades del corazón     97    3.527273\n",
       "8                  091 Otros accidentes de transporte     95    3.454545\n",
       "9                             092 Caídas accidentales     68    2.472727\n",
       "10                                       037 Leucemia     68    2.472727"
      ]
     },
     "execution_count": 14,
     "metadata": {},
     "output_type": "execute_result"
    }
   ],
   "source": [
    "top10_2021 = top10_2021.iloc[:, [1, 5, 6]]\n",
    "top10_2021"
   ]
  },
  {
   "cell_type": "markdown",
   "metadata": {},
   "source": [
    "11. Eliminación de los cuatro primeros carácter de la columnas donde se encuentran las enfermedades"
   ]
  },
  {
   "cell_type": "code",
   "execution_count": 42,
   "metadata": {},
   "outputs": [
    {
     "name": "stderr",
     "output_type": "stream",
     "text": [
      "C:\\Users\\beama\\AppData\\Local\\Temp\\ipykernel_7404\\2141156264.py:1: SettingWithCopyWarning:\n",
      "\n",
      "\n",
      "A value is trying to be set on a copy of a slice from a DataFrame.\n",
      "Try using .loc[row_indexer,col_indexer] = value instead\n",
      "\n",
      "See the caveats in the documentation: https://pandas.pydata.org/pandas-docs/stable/user_guide/indexing.html#returning-a-view-versus-a-copy\n",
      "\n"
     ]
    }
   ],
   "source": [
    "top10_2021['2021'] = top10_2021['2021'].str.slice(start=4)\n",
    "top10_2021.to_excel(\"top2021.xlsx\")"
   ]
  },
  {
   "cell_type": "markdown",
   "metadata": {},
   "source": [
    "**Obtención de las principales causas de mortalidad en 2020 de personas entre 20 y 34 años en España**"
   ]
  },
  {
   "cell_type": "code",
   "execution_count": 41,
   "metadata": {},
   "outputs": [
    {
     "name": "stderr",
     "output_type": "stream",
     "text": [
      "C:\\Users\\beama\\AppData\\Local\\Temp\\ipykernel_7404\\358642299.py:13: FutureWarning:\n",
      "\n",
      "Dropping of nuisance columns in DataFrame reductions (with 'numeric_only=None') is deprecated; in a future version this will raise TypeError.  Select only valid columns before calling the reduction.\n",
      "\n",
      "C:\\Users\\beama\\AppData\\Local\\Temp\\ipykernel_7404\\358642299.py:13: SettingWithCopyWarning:\n",
      "\n",
      "\n",
      "A value is trying to be set on a copy of a slice from a DataFrame.\n",
      "Try using .loc[row_indexer,col_indexer] = value instead\n",
      "\n",
      "See the caveats in the documentation: https://pandas.pydata.org/pandas-docs/stable/user_guide/indexing.html#returning-a-view-versus-a-copy\n",
      "\n",
      "C:\\Users\\beama\\AppData\\Local\\Temp\\ipykernel_7404\\358642299.py:18: SettingWithCopyWarning:\n",
      "\n",
      "\n",
      "A value is trying to be set on a copy of a slice from a DataFrame.\n",
      "Try using .loc[row_indexer,col_indexer] = value instead\n",
      "\n",
      "See the caveats in the documentation: https://pandas.pydata.org/pandas-docs/stable/user_guide/indexing.html#returning-a-view-versus-a-copy\n",
      "\n"
     ]
    }
   ],
   "source": [
    "mortalidad2020 = pd.read_excel(\"muertes2020.xlsx\")\n",
    "\n",
    "mortalidad2020 = mortalidad2020.rename(columns= {\" \" : \"2020\"})\n",
    "\n",
    "mortalidad_condicion = mortalidad2020['De 20 a 24 años'] != 0\n",
    "mortalidad_condicion2 = mortalidad2020['De 25 a 29 años'] != 0\n",
    "mortalidad_condicion3 = mortalidad2020['De 30 a 34 años'] != 0\n",
    "\n",
    "mortalidad2020_20 = mortalidad2020[mortalidad_condicion]\n",
    "mortalidad2020_20 = mortalidad2020[mortalidad_condicion2]\n",
    "mortalidad2020_20 = mortalidad2020[mortalidad_condicion3]\n",
    "\n",
    "mortalidad2020_20['Total'] = mortalidad2020_20.sum(axis=1)\n",
    "mortalidad2020_20\n",
    "\n",
    "total2020 = mortalidad2020_20['Total'].sum()\n",
    "\n",
    "mortalidad2020_20['Porcentaje'] = (mortalidad2020_20['Total']/total2020)*100\n",
    "\n",
    "mortalidad2020_20 = mortalidad2020_20.sort_values(by='Total', ascending = False)\n",
    "\n",
    "top10_2020 = mortalidad2020_20.head(10)\n",
    "top10_2020 = top10_2020.reset_index()\n",
    "top10_2020.index += 1\n",
    "\n",
    "top10_2020 = top10_2020.iloc[:, [1, 5, 6]]\n",
    "top10_2020['2020'] = top10_2020['2020'].str.slice(start=4)\n",
    "\n",
    "top10_2020.to_excel(\"top2020.xlsx\")"
   ]
  },
  {
   "cell_type": "markdown",
   "metadata": {},
   "source": [
    "**Obtención de las principales causas de mortalidad en 2019 de personas entre 20 y 34 años en España**"
   ]
  },
  {
   "cell_type": "code",
   "execution_count": 43,
   "metadata": {},
   "outputs": [
    {
     "name": "stderr",
     "output_type": "stream",
     "text": [
      "C:\\Users\\beama\\AppData\\Local\\Temp\\ipykernel_7404\\2686518987.py:13: FutureWarning:\n",
      "\n",
      "Dropping of nuisance columns in DataFrame reductions (with 'numeric_only=None') is deprecated; in a future version this will raise TypeError.  Select only valid columns before calling the reduction.\n",
      "\n",
      "C:\\Users\\beama\\AppData\\Local\\Temp\\ipykernel_7404\\2686518987.py:13: SettingWithCopyWarning:\n",
      "\n",
      "\n",
      "A value is trying to be set on a copy of a slice from a DataFrame.\n",
      "Try using .loc[row_indexer,col_indexer] = value instead\n",
      "\n",
      "See the caveats in the documentation: https://pandas.pydata.org/pandas-docs/stable/user_guide/indexing.html#returning-a-view-versus-a-copy\n",
      "\n",
      "C:\\Users\\beama\\AppData\\Local\\Temp\\ipykernel_7404\\2686518987.py:18: SettingWithCopyWarning:\n",
      "\n",
      "\n",
      "A value is trying to be set on a copy of a slice from a DataFrame.\n",
      "Try using .loc[row_indexer,col_indexer] = value instead\n",
      "\n",
      "See the caveats in the documentation: https://pandas.pydata.org/pandas-docs/stable/user_guide/indexing.html#returning-a-view-versus-a-copy\n",
      "\n"
     ]
    }
   ],
   "source": [
    "mortalidad2019 = pd.read_excel(\"muertes2019.xlsx\")\n",
    "\n",
    "mortalidad2019 = mortalidad2019.rename(columns= {\" \" : \"2019\"})\n",
    "\n",
    "mortalidad_condicion = mortalidad2019['De 20 a 24 años'] != 0\n",
    "mortalidad_condicion2 = mortalidad2019['De 25 a 29 años'] != 0\n",
    "mortalidad_condicion3 = mortalidad2019['De 30 a 34 años'] != 0\n",
    "\n",
    "mortalidad2019_20 = mortalidad2019[mortalidad_condicion]\n",
    "mortalidad2019_20 = mortalidad2019[mortalidad_condicion2]\n",
    "mortalidad2019_20 = mortalidad2019[mortalidad_condicion3]\n",
    "\n",
    "mortalidad2019_20['Total'] = mortalidad2019_20.sum(axis=1)\n",
    "mortalidad2019_20\n",
    "\n",
    "total2019 = mortalidad2019_20['Total'].sum()\n",
    "\n",
    "mortalidad2019_20['Porcentaje'] = (mortalidad2019_20['Total']/total2019)*100\n",
    "\n",
    "mortalidad2019_20 = mortalidad2019_20.sort_values(by='Total', ascending = False)\n",
    "\n",
    "top10_2019 = mortalidad2019_20.head(10)\n",
    "top10_2019 = top10_2019.reset_index()\n",
    "top10_2019.index += 1\n",
    "\n",
    "top10_2019 = top10_2019.iloc[:, [1, 5, 6]]\n",
    "top10_2019['2019'] = top10_2019['2019'].str.slice(start=4)\n",
    "\n",
    "top10_2019.to_excel(\"top2019.xlsx\")"
   ]
  },
  {
   "cell_type": "markdown",
   "metadata": {},
   "source": [
    "**Obtención de las principales causas de mortalidad en 2018 de personas entre 20 y 34 años en España**"
   ]
  },
  {
   "cell_type": "code",
   "execution_count": 44,
   "metadata": {},
   "outputs": [
    {
     "name": "stderr",
     "output_type": "stream",
     "text": [
      "C:\\Users\\beama\\AppData\\Local\\Temp\\ipykernel_7404\\2832416468.py:13: FutureWarning:\n",
      "\n",
      "Dropping of nuisance columns in DataFrame reductions (with 'numeric_only=None') is deprecated; in a future version this will raise TypeError.  Select only valid columns before calling the reduction.\n",
      "\n",
      "C:\\Users\\beama\\AppData\\Local\\Temp\\ipykernel_7404\\2832416468.py:13: SettingWithCopyWarning:\n",
      "\n",
      "\n",
      "A value is trying to be set on a copy of a slice from a DataFrame.\n",
      "Try using .loc[row_indexer,col_indexer] = value instead\n",
      "\n",
      "See the caveats in the documentation: https://pandas.pydata.org/pandas-docs/stable/user_guide/indexing.html#returning-a-view-versus-a-copy\n",
      "\n",
      "C:\\Users\\beama\\AppData\\Local\\Temp\\ipykernel_7404\\2832416468.py:18: SettingWithCopyWarning:\n",
      "\n",
      "\n",
      "A value is trying to be set on a copy of a slice from a DataFrame.\n",
      "Try using .loc[row_indexer,col_indexer] = value instead\n",
      "\n",
      "See the caveats in the documentation: https://pandas.pydata.org/pandas-docs/stable/user_guide/indexing.html#returning-a-view-versus-a-copy\n",
      "\n"
     ]
    }
   ],
   "source": [
    "mortalidad2018 = pd.read_excel(\"muertes2018.xlsx\")\n",
    "\n",
    "mortalidad2018 = mortalidad2018.rename(columns= {\" \" : \"2018\"})\n",
    "\n",
    "mortalidad_condicion = mortalidad2018['De 20 a 24 años'] != 0\n",
    "mortalidad_condicion2 = mortalidad2018['De 25 a 29 años'] != 0\n",
    "mortalidad_condicion3 = mortalidad2018['De 30 a 34 años'] != 0\n",
    "\n",
    "mortalidad2018_20 = mortalidad2018[mortalidad_condicion]\n",
    "mortalidad2018_20 = mortalidad2018[mortalidad_condicion2]\n",
    "mortalidad2018_20 = mortalidad2018[mortalidad_condicion3]\n",
    "\n",
    "mortalidad2018_20['Total'] = mortalidad2018_20.sum(axis=1)\n",
    "mortalidad2018_20\n",
    "\n",
    "total2018 = mortalidad2018_20['Total'].sum()\n",
    "\n",
    "mortalidad2018_20['Porcentaje'] = (mortalidad2018_20['Total']/total2018)*100\n",
    "\n",
    "mortalidad2018_20 = mortalidad2018_20.sort_values(by='Total', ascending = False)\n",
    "\n",
    "top10_2018 = mortalidad2018_20.head(10)\n",
    "top10_2018 = top10_2018.reset_index()\n",
    "top10_2018.index += 1\n",
    "\n",
    "top10_2018 = top10_2018.iloc[:, [1, 5, 6]]\n",
    "top10_2018['2018'] = top10_2018['2018'].str.slice(start=4)\n",
    "\n",
    "top10_2018.to_excel(\"top2018.xlsx\")"
   ]
  },
  {
   "cell_type": "markdown",
   "metadata": {},
   "source": [
    "**Obtención de las principales causas de mortalidad en 2017 de personas entre 20 y 34 años en España**"
   ]
  },
  {
   "cell_type": "code",
   "execution_count": 45,
   "metadata": {},
   "outputs": [
    {
     "name": "stderr",
     "output_type": "stream",
     "text": [
      "C:\\Users\\beama\\AppData\\Local\\Temp\\ipykernel_7404\\2683245929.py:13: FutureWarning:\n",
      "\n",
      "Dropping of nuisance columns in DataFrame reductions (with 'numeric_only=None') is deprecated; in a future version this will raise TypeError.  Select only valid columns before calling the reduction.\n",
      "\n",
      "C:\\Users\\beama\\AppData\\Local\\Temp\\ipykernel_7404\\2683245929.py:13: SettingWithCopyWarning:\n",
      "\n",
      "\n",
      "A value is trying to be set on a copy of a slice from a DataFrame.\n",
      "Try using .loc[row_indexer,col_indexer] = value instead\n",
      "\n",
      "See the caveats in the documentation: https://pandas.pydata.org/pandas-docs/stable/user_guide/indexing.html#returning-a-view-versus-a-copy\n",
      "\n",
      "C:\\Users\\beama\\AppData\\Local\\Temp\\ipykernel_7404\\2683245929.py:18: SettingWithCopyWarning:\n",
      "\n",
      "\n",
      "A value is trying to be set on a copy of a slice from a DataFrame.\n",
      "Try using .loc[row_indexer,col_indexer] = value instead\n",
      "\n",
      "See the caveats in the documentation: https://pandas.pydata.org/pandas-docs/stable/user_guide/indexing.html#returning-a-view-versus-a-copy\n",
      "\n"
     ]
    }
   ],
   "source": [
    "mortalidad2017 = pd.read_excel(\"muertes2017.xlsx\")\n",
    "\n",
    "mortalidad2017 = mortalidad2017.rename(columns= {\" \" : \"2017\"})\n",
    "\n",
    "mortalidad_condicion = mortalidad2017['De 20 a 24 años'] != 0\n",
    "mortalidad_condicion2 = mortalidad2017['De 25 a 29 años'] != 0\n",
    "mortalidad_condicion3 = mortalidad2017['De 30 a 34 años'] != 0\n",
    "\n",
    "mortalidad2017_20 = mortalidad2017[mortalidad_condicion]\n",
    "mortalidad2017_20 = mortalidad2017[mortalidad_condicion2]\n",
    "mortalidad2017_20 = mortalidad2017[mortalidad_condicion3]\n",
    "\n",
    "mortalidad2017_20['Total'] = mortalidad2017_20.sum(axis=1)\n",
    "mortalidad2017_20\n",
    "\n",
    "total2017 = mortalidad2017_20['Total'].sum()\n",
    "\n",
    "mortalidad2017_20['Porcentaje'] = (mortalidad2017_20['Total']/total2017)*100\n",
    "\n",
    "mortalidad2017_20 = mortalidad2017_20.sort_values(by='Total', ascending = False)\n",
    "\n",
    "top10_2017 = mortalidad2017_20.head(10)\n",
    "top10_2017 = top10_2017.reset_index()\n",
    "top10_2017.index += 1\n",
    "\n",
    "top10_2017 = top10_2017.iloc[:, [1, 5, 6]]\n",
    "top10_2017['2017'] = top10_2017['2017'].str.slice(start=4)\n",
    "\n",
    "top10_2017.to_excel(\"top2017.xlsx\")"
   ]
  },
  {
   "cell_type": "markdown",
   "metadata": {},
   "source": [
    "**Obtención de las principales causas de mortalidad en 2016 de personas entre 20 y 34 años en España**"
   ]
  },
  {
   "cell_type": "code",
   "execution_count": 46,
   "metadata": {},
   "outputs": [
    {
     "name": "stderr",
     "output_type": "stream",
     "text": [
      "C:\\Users\\beama\\AppData\\Local\\Temp\\ipykernel_7404\\507385855.py:13: FutureWarning:\n",
      "\n",
      "Dropping of nuisance columns in DataFrame reductions (with 'numeric_only=None') is deprecated; in a future version this will raise TypeError.  Select only valid columns before calling the reduction.\n",
      "\n",
      "C:\\Users\\beama\\AppData\\Local\\Temp\\ipykernel_7404\\507385855.py:13: SettingWithCopyWarning:\n",
      "\n",
      "\n",
      "A value is trying to be set on a copy of a slice from a DataFrame.\n",
      "Try using .loc[row_indexer,col_indexer] = value instead\n",
      "\n",
      "See the caveats in the documentation: https://pandas.pydata.org/pandas-docs/stable/user_guide/indexing.html#returning-a-view-versus-a-copy\n",
      "\n",
      "C:\\Users\\beama\\AppData\\Local\\Temp\\ipykernel_7404\\507385855.py:18: SettingWithCopyWarning:\n",
      "\n",
      "\n",
      "A value is trying to be set on a copy of a slice from a DataFrame.\n",
      "Try using .loc[row_indexer,col_indexer] = value instead\n",
      "\n",
      "See the caveats in the documentation: https://pandas.pydata.org/pandas-docs/stable/user_guide/indexing.html#returning-a-view-versus-a-copy\n",
      "\n"
     ]
    }
   ],
   "source": [
    "mortalidad2016 = pd.read_excel(\"muertes2016.xlsx\")\n",
    "\n",
    "mortalidad2016 = mortalidad2016.rename(columns= {\" \" : \"2016\"})\n",
    "\n",
    "mortalidad_condicion = mortalidad2016['De 20 a 24 años'] != 0\n",
    "mortalidad_condicion2 = mortalidad2016['De 25 a 29 años'] != 0\n",
    "mortalidad_condicion3 = mortalidad2016['De 30 a 34 años'] != 0\n",
    "\n",
    "mortalidad2016_20 = mortalidad2016[mortalidad_condicion]\n",
    "mortalidad2016_20 = mortalidad2016[mortalidad_condicion2]\n",
    "mortalidad2016_20 = mortalidad2016[mortalidad_condicion3]\n",
    "\n",
    "mortalidad2016_20['Total'] = mortalidad2016_20.sum(axis=1)\n",
    "mortalidad2016_20\n",
    "\n",
    "total2016 = mortalidad2016_20['Total'].sum()\n",
    "\n",
    "mortalidad2016_20['Porcentaje'] = (mortalidad2016_20['Total']/total2016)*100\n",
    "\n",
    "mortalidad2016_20 = mortalidad2016_20.sort_values(by='Total', ascending = False)\n",
    "\n",
    "top10_2016 = mortalidad2016_20.head(10)\n",
    "top10_2016 = top10_2016.reset_index()\n",
    "top10_2016.index += 1\n",
    "\n",
    "top10_2016 = top10_2016.iloc[:, [1, 5, 6]]\n",
    "top10_2016['2016'] = top10_2016['2016'].str.slice(start=4)\n",
    "\n",
    "top10_2016.to_excel(\"top2016.xlsx\")"
   ]
  },
  {
   "cell_type": "markdown",
   "metadata": {},
   "source": [
    "**Obtención de las principales causas de mortalidad en 2015 de personas entre 20 y 34 años en España**"
   ]
  },
  {
   "cell_type": "code",
   "execution_count": 47,
   "metadata": {},
   "outputs": [
    {
     "name": "stderr",
     "output_type": "stream",
     "text": [
      "C:\\Users\\beama\\AppData\\Local\\Temp\\ipykernel_7404\\1554268474.py:13: FutureWarning:\n",
      "\n",
      "Dropping of nuisance columns in DataFrame reductions (with 'numeric_only=None') is deprecated; in a future version this will raise TypeError.  Select only valid columns before calling the reduction.\n",
      "\n",
      "C:\\Users\\beama\\AppData\\Local\\Temp\\ipykernel_7404\\1554268474.py:13: SettingWithCopyWarning:\n",
      "\n",
      "\n",
      "A value is trying to be set on a copy of a slice from a DataFrame.\n",
      "Try using .loc[row_indexer,col_indexer] = value instead\n",
      "\n",
      "See the caveats in the documentation: https://pandas.pydata.org/pandas-docs/stable/user_guide/indexing.html#returning-a-view-versus-a-copy\n",
      "\n",
      "C:\\Users\\beama\\AppData\\Local\\Temp\\ipykernel_7404\\1554268474.py:18: SettingWithCopyWarning:\n",
      "\n",
      "\n",
      "A value is trying to be set on a copy of a slice from a DataFrame.\n",
      "Try using .loc[row_indexer,col_indexer] = value instead\n",
      "\n",
      "See the caveats in the documentation: https://pandas.pydata.org/pandas-docs/stable/user_guide/indexing.html#returning-a-view-versus-a-copy\n",
      "\n"
     ]
    }
   ],
   "source": [
    "mortalidad2015 = pd.read_excel(\"muertes2015.xlsx\")\n",
    "\n",
    "mortalidad2015 = mortalidad2015.rename(columns= {\" \" : \"2015\"})\n",
    "\n",
    "mortalidad_condicion = mortalidad2015['De 20 a 24 años'] != 0\n",
    "mortalidad_condicion2 = mortalidad2015['De 25 a 29 años'] != 0\n",
    "mortalidad_condicion3 = mortalidad2015['De 30 a 34 años'] != 0\n",
    "\n",
    "mortalidad2015_20 = mortalidad2015[mortalidad_condicion]\n",
    "mortalidad2015_20 = mortalidad2015[mortalidad_condicion2]\n",
    "mortalidad2015_20 = mortalidad2015[mortalidad_condicion3]\n",
    "\n",
    "mortalidad2015_20['Total'] = mortalidad2015_20.sum(axis=1)\n",
    "mortalidad2015_20\n",
    "\n",
    "total2015 = mortalidad2015_20['Total'].sum()\n",
    "\n",
    "mortalidad2015_20['Porcentaje'] = (mortalidad2015_20['Total']/total2015)*100\n",
    "\n",
    "mortalidad2015_20 = mortalidad2015_20.sort_values(by='Total', ascending = False)\n",
    "\n",
    "top10_2015 = mortalidad2015_20.head(10)\n",
    "top10_2015 = top10_2015.reset_index()\n",
    "top10_2015.index += 1\n",
    "\n",
    "top10_2015 = top10_2015.iloc[:, [1, 5, 6]]\n",
    "top10_2015['2015'] = top10_2015['2015'].str.slice(start=4)\n",
    "\n",
    "top10_2015.to_excel(\"top2015.xlsx\")"
   ]
  },
  {
   "cell_type": "markdown",
   "metadata": {},
   "source": [
    "**Obtención de las principales causas de mortalidad en 2014 de personas entre 20 y 34 años en España**"
   ]
  },
  {
   "cell_type": "code",
   "execution_count": 48,
   "metadata": {},
   "outputs": [
    {
     "name": "stderr",
     "output_type": "stream",
     "text": [
      "C:\\Users\\beama\\AppData\\Local\\Temp\\ipykernel_7404\\645654395.py:13: FutureWarning:\n",
      "\n",
      "Dropping of nuisance columns in DataFrame reductions (with 'numeric_only=None') is deprecated; in a future version this will raise TypeError.  Select only valid columns before calling the reduction.\n",
      "\n",
      "C:\\Users\\beama\\AppData\\Local\\Temp\\ipykernel_7404\\645654395.py:13: SettingWithCopyWarning:\n",
      "\n",
      "\n",
      "A value is trying to be set on a copy of a slice from a DataFrame.\n",
      "Try using .loc[row_indexer,col_indexer] = value instead\n",
      "\n",
      "See the caveats in the documentation: https://pandas.pydata.org/pandas-docs/stable/user_guide/indexing.html#returning-a-view-versus-a-copy\n",
      "\n",
      "C:\\Users\\beama\\AppData\\Local\\Temp\\ipykernel_7404\\645654395.py:18: SettingWithCopyWarning:\n",
      "\n",
      "\n",
      "A value is trying to be set on a copy of a slice from a DataFrame.\n",
      "Try using .loc[row_indexer,col_indexer] = value instead\n",
      "\n",
      "See the caveats in the documentation: https://pandas.pydata.org/pandas-docs/stable/user_guide/indexing.html#returning-a-view-versus-a-copy\n",
      "\n"
     ]
    }
   ],
   "source": [
    "mortalidad2014 = pd.read_excel(\"muertes2014.xlsx\")\n",
    "\n",
    "mortalidad2014 = mortalidad2014.rename(columns= {\" \" : \"2014\"})\n",
    "\n",
    "mortalidad_condicion = mortalidad2014['De 20 a 24 años'] != 0\n",
    "mortalidad_condicion2 = mortalidad2014['De 25 a 29 años'] != 0\n",
    "mortalidad_condicion3 = mortalidad2014['De 30 a 34 años'] != 0\n",
    "\n",
    "mortalidad2014_20 = mortalidad2014[mortalidad_condicion]\n",
    "mortalidad2014_20 = mortalidad2014[mortalidad_condicion2]\n",
    "mortalidad2014_20 = mortalidad2014[mortalidad_condicion3]\n",
    "\n",
    "mortalidad2014_20['Total'] = mortalidad2014_20.sum(axis=1)\n",
    "mortalidad2014_20\n",
    "\n",
    "total2014 = mortalidad2014_20['Total'].sum()\n",
    "\n",
    "mortalidad2014_20['Porcentaje'] = (mortalidad2014_20['Total']/total2014)*100\n",
    "\n",
    "mortalidad2014_20 = mortalidad2014_20.sort_values(by='Total', ascending = False)\n",
    "\n",
    "top10_2014 = mortalidad2014_20.head(10)\n",
    "top10_2014 = top10_2014.reset_index()\n",
    "top10_2014.index += 1\n",
    "\n",
    "top10_2014 = top10_2014.iloc[:, [1, 5, 6]]\n",
    "top10_2014['2014'] = top10_2014['2014'].str.slice(start=4)\n",
    "\n",
    "\n",
    "top10_2014.to_excel(\"top2014.xlsx\")"
   ]
  },
  {
   "cell_type": "markdown",
   "metadata": {},
   "source": [
    "**Obtención de las principales causas de mortalidad en 2013 de personas entre 20 y 34 años en España**"
   ]
  },
  {
   "cell_type": "code",
   "execution_count": 49,
   "metadata": {},
   "outputs": [
    {
     "name": "stderr",
     "output_type": "stream",
     "text": [
      "C:\\Users\\beama\\AppData\\Local\\Temp\\ipykernel_7404\\2967793986.py:13: FutureWarning:\n",
      "\n",
      "Dropping of nuisance columns in DataFrame reductions (with 'numeric_only=None') is deprecated; in a future version this will raise TypeError.  Select only valid columns before calling the reduction.\n",
      "\n",
      "C:\\Users\\beama\\AppData\\Local\\Temp\\ipykernel_7404\\2967793986.py:13: SettingWithCopyWarning:\n",
      "\n",
      "\n",
      "A value is trying to be set on a copy of a slice from a DataFrame.\n",
      "Try using .loc[row_indexer,col_indexer] = value instead\n",
      "\n",
      "See the caveats in the documentation: https://pandas.pydata.org/pandas-docs/stable/user_guide/indexing.html#returning-a-view-versus-a-copy\n",
      "\n",
      "C:\\Users\\beama\\AppData\\Local\\Temp\\ipykernel_7404\\2967793986.py:18: SettingWithCopyWarning:\n",
      "\n",
      "\n",
      "A value is trying to be set on a copy of a slice from a DataFrame.\n",
      "Try using .loc[row_indexer,col_indexer] = value instead\n",
      "\n",
      "See the caveats in the documentation: https://pandas.pydata.org/pandas-docs/stable/user_guide/indexing.html#returning-a-view-versus-a-copy\n",
      "\n"
     ]
    }
   ],
   "source": [
    "mortalidad2013 = pd.read_excel(\"muertes2013.xlsx\")\n",
    "\n",
    "mortalidad2013 = mortalidad2013.rename(columns= {\" \" : \"2013\"})\n",
    "\n",
    "mortalidad_condicion = mortalidad2013['De 20 a 24 años'] != 0\n",
    "mortalidad_condicion2 = mortalidad2013['De 25 a 29 años'] != 0\n",
    "mortalidad_condicion3 = mortalidad2013['De 30 a 34 años'] != 0\n",
    "\n",
    "mortalidad2013_20 = mortalidad2013[mortalidad_condicion]\n",
    "mortalidad2013_20 = mortalidad2013[mortalidad_condicion2]\n",
    "mortalidad2013_20 = mortalidad2013[mortalidad_condicion3]\n",
    "\n",
    "mortalidad2013_20['Total'] = mortalidad2013_20.sum(axis=1)\n",
    "mortalidad2013_20\n",
    "\n",
    "total2013 = mortalidad2013_20['Total'].sum()\n",
    "\n",
    "mortalidad2013_20['Porcentaje'] = (mortalidad2013_20['Total']/total2013)*100\n",
    "\n",
    "mortalidad2013_20 = mortalidad2013_20.sort_values(by='Total', ascending = False)\n",
    "\n",
    "top10_2013 = mortalidad2013_20.head(10)\n",
    "top10_2013 = top10_2013.reset_index()\n",
    "top10_2013.index += 1\n",
    "\n",
    "top10_2013 = top10_2013.iloc[:, [1, 5, 6]]\n",
    "top10_2013['2013'] = top10_2013['2013'].str.slice(start=4)\n",
    "\n",
    "\n",
    "top10_2013.to_excel(\"top2013.xlsx\")"
   ]
  },
  {
   "cell_type": "markdown",
   "metadata": {},
   "source": [
    "**Obtención de las principales causas de mortalidad en 2012 de personas entre 20 y 34 años en España**"
   ]
  },
  {
   "cell_type": "code",
   "execution_count": 50,
   "metadata": {},
   "outputs": [
    {
     "name": "stderr",
     "output_type": "stream",
     "text": [
      "C:\\Users\\beama\\AppData\\Local\\Temp\\ipykernel_7404\\2842180603.py:13: FutureWarning:\n",
      "\n",
      "Dropping of nuisance columns in DataFrame reductions (with 'numeric_only=None') is deprecated; in a future version this will raise TypeError.  Select only valid columns before calling the reduction.\n",
      "\n",
      "C:\\Users\\beama\\AppData\\Local\\Temp\\ipykernel_7404\\2842180603.py:13: SettingWithCopyWarning:\n",
      "\n",
      "\n",
      "A value is trying to be set on a copy of a slice from a DataFrame.\n",
      "Try using .loc[row_indexer,col_indexer] = value instead\n",
      "\n",
      "See the caveats in the documentation: https://pandas.pydata.org/pandas-docs/stable/user_guide/indexing.html#returning-a-view-versus-a-copy\n",
      "\n",
      "C:\\Users\\beama\\AppData\\Local\\Temp\\ipykernel_7404\\2842180603.py:18: SettingWithCopyWarning:\n",
      "\n",
      "\n",
      "A value is trying to be set on a copy of a slice from a DataFrame.\n",
      "Try using .loc[row_indexer,col_indexer] = value instead\n",
      "\n",
      "See the caveats in the documentation: https://pandas.pydata.org/pandas-docs/stable/user_guide/indexing.html#returning-a-view-versus-a-copy\n",
      "\n"
     ]
    }
   ],
   "source": [
    "mortalidad2012 = pd.read_excel(\"muertes2012.xlsx\")\n",
    "\n",
    "mortalidad2012 = mortalidad2012.rename(columns= {\" \" : \"2012\"})\n",
    "\n",
    "mortalidad_condicion = mortalidad2012['De 20 a 24 años'] != 0\n",
    "mortalidad_condicion2 = mortalidad2012['De 25 a 29 años'] != 0\n",
    "mortalidad_condicion3 = mortalidad2012['De 30 a 34 años'] != 0\n",
    "\n",
    "mortalidad2012_20 = mortalidad2012[mortalidad_condicion]\n",
    "mortalidad2012_20 = mortalidad2012[mortalidad_condicion2]\n",
    "mortalidad2012_20 = mortalidad2012[mortalidad_condicion3]\n",
    "\n",
    "mortalidad2012_20['Total'] = mortalidad2012_20.sum(axis=1)\n",
    "mortalidad2012_20\n",
    "\n",
    "total2012 = mortalidad2012_20['Total'].sum()\n",
    "\n",
    "mortalidad2012_20['Porcentaje'] = (mortalidad2012_20['Total']/total2012)*100\n",
    "\n",
    "mortalidad2012_20 = mortalidad2012_20.sort_values(by='Total', ascending = False)\n",
    "\n",
    "top10_2012 = mortalidad2012_20.head(10)\n",
    "top10_2012 = top10_2012.reset_index()\n",
    "top10_2012.index += 1\n",
    "\n",
    "top10_2012 = top10_2012.iloc[:, [1, 5, 6]]\n",
    "top10_2012['2012'] = top10_2012['2012'].str.slice(start=4)\n",
    "\n",
    "top10_2012.to_excel(\"top2012.xlsx\")"
   ]
  },
  {
   "cell_type": "markdown",
   "metadata": {},
   "source": [
    "#### **Visualizaciones**"
   ]
  },
  {
   "cell_type": "markdown",
   "metadata": {},
   "source": [
    "- Suicidios"
   ]
  },
  {
   "cell_type": "code",
   "execution_count": 25,
   "metadata": {},
   "outputs": [],
   "source": [
    "porcentaje_suicidios2021 = top10_2021.loc[top10_2021['2021'] == 'Suicidio y lesiones autoinfligidas', 'Porcentaje']\n",
    "porcentaje_suicidios2021 = float(porcentaje_suicidios2021)\n",
    "total_suicidios2021 = top10_2021.loc[top10_2021['2021'] == 'Suicidio y lesiones autoinfligidas', 'Total']\n",
    "total_suicidios2021 = int(total_suicidios2021)\n",
    "\n",
    "porcentaje_suicidios2020 = top10_2020.loc[top10_2020['2020'] == 'Suicidio y lesiones autoinfligidas', 'Porcentaje']\n",
    "porcentaje_suicidios2020 = float(porcentaje_suicidios2020)\n",
    "total_suicidios2020 = top10_2020.loc[top10_2020['2020'] == 'Suicidio y lesiones autoinfligidas', 'Total']\n",
    "total_suicidios2020 = int(total_suicidios2020)\n",
    "\n",
    "porcentaje_suicidios2019 = top10_2019.loc[top10_2019['2019'] == 'Suicidio y lesiones autoinfligidas', 'Porcentaje']\n",
    "porcentaje_suicidios2019 = float(porcentaje_suicidios2019)\n",
    "total_suicidios2019 = top10_2019.loc[top10_2019['2019'] == 'Suicidio y lesiones autoinfligidas', 'Total']\n",
    "total_suicidios2019 = int(total_suicidios2019)\n",
    "\n",
    "porcentaje_suicidios2018 = top10_2018.loc[top10_2018['2018'] == 'Suicidio y lesiones autoinfligidas', 'Porcentaje']\n",
    "porcentaje_suicidios2018 = float(porcentaje_suicidios2018)\n",
    "total_suicidios2018 = top10_2018.loc[top10_2018['2018'] == 'Suicidio y lesiones autoinfligidas', 'Total']\n",
    "total_suicidios2018 = int(total_suicidios2018)\n",
    "\n",
    "porcentaje_suicidios2017 = top10_2017.loc[top10_2017['2017'] == 'Suicidio y lesiones autoinfligidas', 'Porcentaje']\n",
    "porcentaje_suicidios2017 = float(porcentaje_suicidios2017)\n",
    "total_suicidios2017 = top10_2017.loc[top10_2017['2017'] == 'Suicidio y lesiones autoinfligidas', 'Total']\n",
    "total_suicidios2017 = int(total_suicidios2017)\n",
    "\n",
    "porcentaje_suicidios2016 = top10_2016.loc[top10_2016['2016'] == 'Suicidio y lesiones autoinfligidas', 'Porcentaje']\n",
    "porcentaje_suicidios2016 = float(porcentaje_suicidios2016)\n",
    "total_suicidios2016 = top10_2016.loc[top10_2016['2016'] == 'Suicidio y lesiones autoinfligidas', 'Total']\n",
    "total_suicidios2016 = int(total_suicidios2016)\n",
    "\n",
    "porcentaje_suicidios2015 = top10_2015.loc[top10_2015['2015'] == 'Suicidio y lesiones autoinfligidas', 'Porcentaje']\n",
    "porcentaje_suicidios2015 = float(porcentaje_suicidios2015)\n",
    "total_suicidios2015 = top10_2015.loc[top10_2015['2015'] == 'Suicidio y lesiones autoinfligidas', 'Total']\n",
    "total_suicidios2015 = int(total_suicidios2015)\n",
    "\n",
    "porcentaje_suicidios2014 = top10_2014.loc[top10_2014['2014'] == 'Suicidio y lesiones autoinfligidas', 'Porcentaje']\n",
    "porcentaje_suicidios2014 = float(porcentaje_suicidios2014)\n",
    "total_suicidios2014 = top10_2014.loc[top10_2014['2014'] == 'Suicidio y lesiones autoinfligidas', 'Total']\n",
    "total_suicidios2014 = int(total_suicidios2014)\n",
    "\n",
    "porcentaje_suicidios2013 = top10_2013.loc[top10_2013['2013'] == 'Suicidio y lesiones autoinfligidas', 'Porcentaje']\n",
    "porcentaje_suicidios2013 = float(porcentaje_suicidios2013)\n",
    "total_suicidios2013 = top10_2013.loc[top10_2013['2013'] == 'Suicidio y lesiones autoinfligidas', 'Total']\n",
    "total_suicidios2013 = int(total_suicidios2013)\n",
    "\n",
    "porcentaje_suicidios2012 = top10_2012.loc[top10_2012['2012'] == 'Suicidio y lesiones autoinfligidas', 'Porcentaje']\n",
    "porcentaje_suicidios2012 = float(porcentaje_suicidios2012)\n",
    "total_suicidios2012 = top10_2012.loc[top10_2012['2012'] == 'Suicidio y lesiones autoinfligidas', 'Total']\n",
    "total_suicidios2012 = int(total_suicidios2012)"
   ]
  },
  {
   "cell_type": "code",
   "execution_count": 26,
   "metadata": {},
   "outputs": [
    {
     "data": {
      "text/html": [
       "        <script type=\"text/javascript\">\n",
       "        window.PlotlyConfig = {MathJaxConfig: 'local'};\n",
       "        if (window.MathJax && window.MathJax.Hub && window.MathJax.Hub.Config) {window.MathJax.Hub.Config({SVG: {font: \"STIX-Web\"}});}\n",
       "        if (typeof require !== 'undefined') {\n",
       "        require.undef(\"plotly\");\n",
       "        requirejs.config({\n",
       "            paths: {\n",
       "                'plotly': ['https://cdn.plot.ly/plotly-2.18.2.min']\n",
       "            }\n",
       "        });\n",
       "        require(['plotly'], function(Plotly) {\n",
       "            window._Plotly = Plotly;\n",
       "        });\n",
       "        }\n",
       "        </script>\n",
       "        "
      ]
     },
     "metadata": {},
     "output_type": "display_data"
    }
   ],
   "source": [
    "import pandas as pd\n",
    "import plotly as py\n",
    "import plotly.graph_objects as go\n",
    "import plotly.express as px\n",
    "import plotly.io as pio\n",
    "from plotly.subplots import make_subplots\n",
    "\n",
    "py.offline.init_notebook_mode(connected=True) "
   ]
  },
  {
   "cell_type": "code",
   "execution_count": 27,
   "metadata": {},
   "outputs": [],
   "source": [
    "Año1 = [2012, 2013, 2014, 2015, 2016, 2017, 2018, 2019, 2020, 2021]\n",
    "Porcentajes1 = [porcentaje_suicidios2012, porcentaje_suicidios2013, porcentaje_suicidios2014, porcentaje_suicidios2015, porcentaje_suicidios2016, porcentaje_suicidios2017, porcentaje_suicidios2018, porcentaje_suicidios2019, porcentaje_suicidios2020, porcentaje_suicidios2021]"
   ]
  },
  {
   "cell_type": "code",
   "execution_count": 28,
   "metadata": {},
   "outputs": [
    {
     "data": {
      "text/html": [
       "<div>\n",
       "<style scoped>\n",
       "    .dataframe tbody tr th:only-of-type {\n",
       "        vertical-align: middle;\n",
       "    }\n",
       "\n",
       "    .dataframe tbody tr th {\n",
       "        vertical-align: top;\n",
       "    }\n",
       "\n",
       "    .dataframe thead th {\n",
       "        text-align: right;\n",
       "    }\n",
       "</style>\n",
       "<table border=\"1\" class=\"dataframe\">\n",
       "  <thead>\n",
       "    <tr style=\"text-align: right;\">\n",
       "      <th></th>\n",
       "      <th>Año</th>\n",
       "      <th>Porcentaje</th>\n",
       "    </tr>\n",
       "  </thead>\n",
       "  <tbody>\n",
       "    <tr>\n",
       "      <th>0</th>\n",
       "      <td>2012</td>\n",
       "      <td>14.919964</td>\n",
       "    </tr>\n",
       "    <tr>\n",
       "      <th>1</th>\n",
       "      <td>2013</td>\n",
       "      <td>16.047652</td>\n",
       "    </tr>\n",
       "    <tr>\n",
       "      <th>2</th>\n",
       "      <td>2014</td>\n",
       "      <td>17.370892</td>\n",
       "    </tr>\n",
       "    <tr>\n",
       "      <th>3</th>\n",
       "      <td>2015</td>\n",
       "      <td>15.857478</td>\n",
       "    </tr>\n",
       "    <tr>\n",
       "      <th>4</th>\n",
       "      <td>2016</td>\n",
       "      <td>14.601421</td>\n",
       "    </tr>\n",
       "    <tr>\n",
       "      <th>5</th>\n",
       "      <td>2017</td>\n",
       "      <td>15.607843</td>\n",
       "    </tr>\n",
       "    <tr>\n",
       "      <th>6</th>\n",
       "      <td>2018</td>\n",
       "      <td>14.152411</td>\n",
       "    </tr>\n",
       "    <tr>\n",
       "      <th>7</th>\n",
       "      <td>2019</td>\n",
       "      <td>16.721582</td>\n",
       "    </tr>\n",
       "    <tr>\n",
       "      <th>8</th>\n",
       "      <td>2020</td>\n",
       "      <td>15.923567</td>\n",
       "    </tr>\n",
       "    <tr>\n",
       "      <th>9</th>\n",
       "      <td>2021</td>\n",
       "      <td>16.290909</td>\n",
       "    </tr>\n",
       "  </tbody>\n",
       "</table>\n",
       "</div>"
      ],
      "text/plain": [
       "    Año  Porcentaje\n",
       "0  2012   14.919964\n",
       "1  2013   16.047652\n",
       "2  2014   17.370892\n",
       "3  2015   15.857478\n",
       "4  2016   14.601421\n",
       "5  2017   15.607843\n",
       "6  2018   14.152411\n",
       "7  2019   16.721582\n",
       "8  2020   15.923567\n",
       "9  2021   16.290909"
      ]
     },
     "execution_count": 28,
     "metadata": {},
     "output_type": "execute_result"
    }
   ],
   "source": [
    "porcentaje_suicidios = pd.DataFrame({\"Año\" : Año1, \"Porcentaje\" : Porcentajes1})\n",
    "porcentaje_suicidios"
   ]
  },
  {
   "cell_type": "code",
   "execution_count": 29,
   "metadata": {},
   "outputs": [],
   "source": [
    "Año = [2012, 2013, 2014, 2015, 2016, 2017, 2018, 2019, 2020, 2021]\n",
    "Totales = [total_suicidios2012, total_suicidios2013, total_suicidios2014, total_suicidios2015, total_suicidios2016, total_suicidios2017, total_suicidios2018, total_suicidios2019,total_suicidios2020, total_suicidios2021]"
   ]
  },
  {
   "cell_type": "code",
   "execution_count": 30,
   "metadata": {},
   "outputs": [
    {
     "data": {
      "text/html": [
       "<div>\n",
       "<style scoped>\n",
       "    .dataframe tbody tr th:only-of-type {\n",
       "        vertical-align: middle;\n",
       "    }\n",
       "\n",
       "    .dataframe tbody tr th {\n",
       "        vertical-align: top;\n",
       "    }\n",
       "\n",
       "    .dataframe thead th {\n",
       "        text-align: right;\n",
       "    }\n",
       "</style>\n",
       "<table border=\"1\" class=\"dataframe\">\n",
       "  <thead>\n",
       "    <tr style=\"text-align: right;\">\n",
       "      <th></th>\n",
       "      <th>Año</th>\n",
       "      <th>Defunciones por suicidio</th>\n",
       "    </tr>\n",
       "  </thead>\n",
       "  <tbody>\n",
       "    <tr>\n",
       "      <th>0</th>\n",
       "      <td>2012</td>\n",
       "      <td>494</td>\n",
       "    </tr>\n",
       "    <tr>\n",
       "      <th>1</th>\n",
       "      <td>2013</td>\n",
       "      <td>458</td>\n",
       "    </tr>\n",
       "    <tr>\n",
       "      <th>2</th>\n",
       "      <td>2014</td>\n",
       "      <td>481</td>\n",
       "    </tr>\n",
       "    <tr>\n",
       "      <th>3</th>\n",
       "      <td>2015</td>\n",
       "      <td>405</td>\n",
       "    </tr>\n",
       "    <tr>\n",
       "      <th>4</th>\n",
       "      <td>2016</td>\n",
       "      <td>370</td>\n",
       "    </tr>\n",
       "    <tr>\n",
       "      <th>5</th>\n",
       "      <td>2017</td>\n",
       "      <td>398</td>\n",
       "    </tr>\n",
       "    <tr>\n",
       "      <th>6</th>\n",
       "      <td>2018</td>\n",
       "      <td>364</td>\n",
       "    </tr>\n",
       "    <tr>\n",
       "      <th>7</th>\n",
       "      <td>2019</td>\n",
       "      <td>406</td>\n",
       "    </tr>\n",
       "    <tr>\n",
       "      <th>8</th>\n",
       "      <td>2020</td>\n",
       "      <td>425</td>\n",
       "    </tr>\n",
       "    <tr>\n",
       "      <th>9</th>\n",
       "      <td>2021</td>\n",
       "      <td>448</td>\n",
       "    </tr>\n",
       "  </tbody>\n",
       "</table>\n",
       "</div>"
      ],
      "text/plain": [
       "    Año  Defunciones por suicidio\n",
       "0  2012                       494\n",
       "1  2013                       458\n",
       "2  2014                       481\n",
       "3  2015                       405\n",
       "4  2016                       370\n",
       "5  2017                       398\n",
       "6  2018                       364\n",
       "7  2019                       406\n",
       "8  2020                       425\n",
       "9  2021                       448"
      ]
     },
     "execution_count": 30,
     "metadata": {},
     "output_type": "execute_result"
    }
   ],
   "source": [
    "totales_suicidios = pd.DataFrame({\"Año\" : Año, \"Defunciones por suicidio\" : Totales})\n",
    "totales_suicidios"
   ]
  },
  {
   "cell_type": "code",
   "execution_count": 31,
   "metadata": {},
   "outputs": [
    {
     "data": {
      "application/vnd.plotly.v1+json": {
       "config": {
        "plotlyServerURL": "https://plot.ly"
       },
       "data": [
        {
         "marker": {
          "color": "red"
         },
         "name": "Número de fallecidos por sucidio",
         "type": "bar",
         "x": [
          2012,
          2013,
          2014,
          2015,
          2016,
          2017,
          2018,
          2019,
          2020,
          2021
         ],
         "xaxis": "x",
         "y": [
          494,
          458,
          481,
          405,
          370,
          398,
          364,
          406,
          425,
          448
         ],
         "yaxis": "y"
        },
        {
         "line": {
          "color": "firebrick",
          "width": 4
         },
         "name": "Porcentaje de fallecidos por suicidio",
         "type": "scatter",
         "x": [
          2012,
          2013,
          2014,
          2015,
          2016,
          2017,
          2018,
          2019,
          2020,
          2021
         ],
         "xaxis": "x2",
         "y": [
          14.919963757173061,
          16.047652417659425,
          17.370892018779344,
          15.857478465152703,
          14.601420678768745,
          15.607843137254902,
          14.152410575427682,
          16.72158154859967,
          15.92356687898089,
          16.290909090909093
         ],
         "yaxis": "y2"
        }
       ],
       "layout": {
        "template": {
         "data": {
          "bar": [
           {
            "error_x": {
             "color": "#2a3f5f"
            },
            "error_y": {
             "color": "#2a3f5f"
            },
            "marker": {
             "line": {
              "color": "#E5ECF6",
              "width": 0.5
             },
             "pattern": {
              "fillmode": "overlay",
              "size": 10,
              "solidity": 0.2
             }
            },
            "type": "bar"
           }
          ],
          "barpolar": [
           {
            "marker": {
             "line": {
              "color": "#E5ECF6",
              "width": 0.5
             },
             "pattern": {
              "fillmode": "overlay",
              "size": 10,
              "solidity": 0.2
             }
            },
            "type": "barpolar"
           }
          ],
          "carpet": [
           {
            "aaxis": {
             "endlinecolor": "#2a3f5f",
             "gridcolor": "white",
             "linecolor": "white",
             "minorgridcolor": "white",
             "startlinecolor": "#2a3f5f"
            },
            "baxis": {
             "endlinecolor": "#2a3f5f",
             "gridcolor": "white",
             "linecolor": "white",
             "minorgridcolor": "white",
             "startlinecolor": "#2a3f5f"
            },
            "type": "carpet"
           }
          ],
          "choropleth": [
           {
            "colorbar": {
             "outlinewidth": 0,
             "ticks": ""
            },
            "type": "choropleth"
           }
          ],
          "contour": [
           {
            "colorbar": {
             "outlinewidth": 0,
             "ticks": ""
            },
            "colorscale": [
             [
              0,
              "#0d0887"
             ],
             [
              0.1111111111111111,
              "#46039f"
             ],
             [
              0.2222222222222222,
              "#7201a8"
             ],
             [
              0.3333333333333333,
              "#9c179e"
             ],
             [
              0.4444444444444444,
              "#bd3786"
             ],
             [
              0.5555555555555556,
              "#d8576b"
             ],
             [
              0.6666666666666666,
              "#ed7953"
             ],
             [
              0.7777777777777778,
              "#fb9f3a"
             ],
             [
              0.8888888888888888,
              "#fdca26"
             ],
             [
              1,
              "#f0f921"
             ]
            ],
            "type": "contour"
           }
          ],
          "contourcarpet": [
           {
            "colorbar": {
             "outlinewidth": 0,
             "ticks": ""
            },
            "type": "contourcarpet"
           }
          ],
          "heatmap": [
           {
            "colorbar": {
             "outlinewidth": 0,
             "ticks": ""
            },
            "colorscale": [
             [
              0,
              "#0d0887"
             ],
             [
              0.1111111111111111,
              "#46039f"
             ],
             [
              0.2222222222222222,
              "#7201a8"
             ],
             [
              0.3333333333333333,
              "#9c179e"
             ],
             [
              0.4444444444444444,
              "#bd3786"
             ],
             [
              0.5555555555555556,
              "#d8576b"
             ],
             [
              0.6666666666666666,
              "#ed7953"
             ],
             [
              0.7777777777777778,
              "#fb9f3a"
             ],
             [
              0.8888888888888888,
              "#fdca26"
             ],
             [
              1,
              "#f0f921"
             ]
            ],
            "type": "heatmap"
           }
          ],
          "heatmapgl": [
           {
            "colorbar": {
             "outlinewidth": 0,
             "ticks": ""
            },
            "colorscale": [
             [
              0,
              "#0d0887"
             ],
             [
              0.1111111111111111,
              "#46039f"
             ],
             [
              0.2222222222222222,
              "#7201a8"
             ],
             [
              0.3333333333333333,
              "#9c179e"
             ],
             [
              0.4444444444444444,
              "#bd3786"
             ],
             [
              0.5555555555555556,
              "#d8576b"
             ],
             [
              0.6666666666666666,
              "#ed7953"
             ],
             [
              0.7777777777777778,
              "#fb9f3a"
             ],
             [
              0.8888888888888888,
              "#fdca26"
             ],
             [
              1,
              "#f0f921"
             ]
            ],
            "type": "heatmapgl"
           }
          ],
          "histogram": [
           {
            "marker": {
             "pattern": {
              "fillmode": "overlay",
              "size": 10,
              "solidity": 0.2
             }
            },
            "type": "histogram"
           }
          ],
          "histogram2d": [
           {
            "colorbar": {
             "outlinewidth": 0,
             "ticks": ""
            },
            "colorscale": [
             [
              0,
              "#0d0887"
             ],
             [
              0.1111111111111111,
              "#46039f"
             ],
             [
              0.2222222222222222,
              "#7201a8"
             ],
             [
              0.3333333333333333,
              "#9c179e"
             ],
             [
              0.4444444444444444,
              "#bd3786"
             ],
             [
              0.5555555555555556,
              "#d8576b"
             ],
             [
              0.6666666666666666,
              "#ed7953"
             ],
             [
              0.7777777777777778,
              "#fb9f3a"
             ],
             [
              0.8888888888888888,
              "#fdca26"
             ],
             [
              1,
              "#f0f921"
             ]
            ],
            "type": "histogram2d"
           }
          ],
          "histogram2dcontour": [
           {
            "colorbar": {
             "outlinewidth": 0,
             "ticks": ""
            },
            "colorscale": [
             [
              0,
              "#0d0887"
             ],
             [
              0.1111111111111111,
              "#46039f"
             ],
             [
              0.2222222222222222,
              "#7201a8"
             ],
             [
              0.3333333333333333,
              "#9c179e"
             ],
             [
              0.4444444444444444,
              "#bd3786"
             ],
             [
              0.5555555555555556,
              "#d8576b"
             ],
             [
              0.6666666666666666,
              "#ed7953"
             ],
             [
              0.7777777777777778,
              "#fb9f3a"
             ],
             [
              0.8888888888888888,
              "#fdca26"
             ],
             [
              1,
              "#f0f921"
             ]
            ],
            "type": "histogram2dcontour"
           }
          ],
          "mesh3d": [
           {
            "colorbar": {
             "outlinewidth": 0,
             "ticks": ""
            },
            "type": "mesh3d"
           }
          ],
          "parcoords": [
           {
            "line": {
             "colorbar": {
              "outlinewidth": 0,
              "ticks": ""
             }
            },
            "type": "parcoords"
           }
          ],
          "pie": [
           {
            "automargin": true,
            "type": "pie"
           }
          ],
          "scatter": [
           {
            "fillpattern": {
             "fillmode": "overlay",
             "size": 10,
             "solidity": 0.2
            },
            "type": "scatter"
           }
          ],
          "scatter3d": [
           {
            "line": {
             "colorbar": {
              "outlinewidth": 0,
              "ticks": ""
             }
            },
            "marker": {
             "colorbar": {
              "outlinewidth": 0,
              "ticks": ""
             }
            },
            "type": "scatter3d"
           }
          ],
          "scattercarpet": [
           {
            "marker": {
             "colorbar": {
              "outlinewidth": 0,
              "ticks": ""
             }
            },
            "type": "scattercarpet"
           }
          ],
          "scattergeo": [
           {
            "marker": {
             "colorbar": {
              "outlinewidth": 0,
              "ticks": ""
             }
            },
            "type": "scattergeo"
           }
          ],
          "scattergl": [
           {
            "marker": {
             "colorbar": {
              "outlinewidth": 0,
              "ticks": ""
             }
            },
            "type": "scattergl"
           }
          ],
          "scattermapbox": [
           {
            "marker": {
             "colorbar": {
              "outlinewidth": 0,
              "ticks": ""
             }
            },
            "type": "scattermapbox"
           }
          ],
          "scatterpolar": [
           {
            "marker": {
             "colorbar": {
              "outlinewidth": 0,
              "ticks": ""
             }
            },
            "type": "scatterpolar"
           }
          ],
          "scatterpolargl": [
           {
            "marker": {
             "colorbar": {
              "outlinewidth": 0,
              "ticks": ""
             }
            },
            "type": "scatterpolargl"
           }
          ],
          "scatterternary": [
           {
            "marker": {
             "colorbar": {
              "outlinewidth": 0,
              "ticks": ""
             }
            },
            "type": "scatterternary"
           }
          ],
          "surface": [
           {
            "colorbar": {
             "outlinewidth": 0,
             "ticks": ""
            },
            "colorscale": [
             [
              0,
              "#0d0887"
             ],
             [
              0.1111111111111111,
              "#46039f"
             ],
             [
              0.2222222222222222,
              "#7201a8"
             ],
             [
              0.3333333333333333,
              "#9c179e"
             ],
             [
              0.4444444444444444,
              "#bd3786"
             ],
             [
              0.5555555555555556,
              "#d8576b"
             ],
             [
              0.6666666666666666,
              "#ed7953"
             ],
             [
              0.7777777777777778,
              "#fb9f3a"
             ],
             [
              0.8888888888888888,
              "#fdca26"
             ],
             [
              1,
              "#f0f921"
             ]
            ],
            "type": "surface"
           }
          ],
          "table": [
           {
            "cells": {
             "fill": {
              "color": "#EBF0F8"
             },
             "line": {
              "color": "white"
             }
            },
            "header": {
             "fill": {
              "color": "#C8D4E3"
             },
             "line": {
              "color": "white"
             }
            },
            "type": "table"
           }
          ]
         },
         "layout": {
          "annotationdefaults": {
           "arrowcolor": "#2a3f5f",
           "arrowhead": 0,
           "arrowwidth": 1
          },
          "autotypenumbers": "strict",
          "coloraxis": {
           "colorbar": {
            "outlinewidth": 0,
            "ticks": ""
           }
          },
          "colorscale": {
           "diverging": [
            [
             0,
             "#8e0152"
            ],
            [
             0.1,
             "#c51b7d"
            ],
            [
             0.2,
             "#de77ae"
            ],
            [
             0.3,
             "#f1b6da"
            ],
            [
             0.4,
             "#fde0ef"
            ],
            [
             0.5,
             "#f7f7f7"
            ],
            [
             0.6,
             "#e6f5d0"
            ],
            [
             0.7,
             "#b8e186"
            ],
            [
             0.8,
             "#7fbc41"
            ],
            [
             0.9,
             "#4d9221"
            ],
            [
             1,
             "#276419"
            ]
           ],
           "sequential": [
            [
             0,
             "#0d0887"
            ],
            [
             0.1111111111111111,
             "#46039f"
            ],
            [
             0.2222222222222222,
             "#7201a8"
            ],
            [
             0.3333333333333333,
             "#9c179e"
            ],
            [
             0.4444444444444444,
             "#bd3786"
            ],
            [
             0.5555555555555556,
             "#d8576b"
            ],
            [
             0.6666666666666666,
             "#ed7953"
            ],
            [
             0.7777777777777778,
             "#fb9f3a"
            ],
            [
             0.8888888888888888,
             "#fdca26"
            ],
            [
             1,
             "#f0f921"
            ]
           ],
           "sequentialminus": [
            [
             0,
             "#0d0887"
            ],
            [
             0.1111111111111111,
             "#46039f"
            ],
            [
             0.2222222222222222,
             "#7201a8"
            ],
            [
             0.3333333333333333,
             "#9c179e"
            ],
            [
             0.4444444444444444,
             "#bd3786"
            ],
            [
             0.5555555555555556,
             "#d8576b"
            ],
            [
             0.6666666666666666,
             "#ed7953"
            ],
            [
             0.7777777777777778,
             "#fb9f3a"
            ],
            [
             0.8888888888888888,
             "#fdca26"
            ],
            [
             1,
             "#f0f921"
            ]
           ]
          },
          "colorway": [
           "#636efa",
           "#EF553B",
           "#00cc96",
           "#ab63fa",
           "#FFA15A",
           "#19d3f3",
           "#FF6692",
           "#B6E880",
           "#FF97FF",
           "#FECB52"
          ],
          "font": {
           "color": "#2a3f5f"
          },
          "geo": {
           "bgcolor": "white",
           "lakecolor": "white",
           "landcolor": "#E5ECF6",
           "showlakes": true,
           "showland": true,
           "subunitcolor": "white"
          },
          "hoverlabel": {
           "align": "left"
          },
          "hovermode": "closest",
          "mapbox": {
           "style": "light"
          },
          "paper_bgcolor": "white",
          "plot_bgcolor": "#E5ECF6",
          "polar": {
           "angularaxis": {
            "gridcolor": "white",
            "linecolor": "white",
            "ticks": ""
           },
           "bgcolor": "#E5ECF6",
           "radialaxis": {
            "gridcolor": "white",
            "linecolor": "white",
            "ticks": ""
           }
          },
          "scene": {
           "xaxis": {
            "backgroundcolor": "#E5ECF6",
            "gridcolor": "white",
            "gridwidth": 2,
            "linecolor": "white",
            "showbackground": true,
            "ticks": "",
            "zerolinecolor": "white"
           },
           "yaxis": {
            "backgroundcolor": "#E5ECF6",
            "gridcolor": "white",
            "gridwidth": 2,
            "linecolor": "white",
            "showbackground": true,
            "ticks": "",
            "zerolinecolor": "white"
           },
           "zaxis": {
            "backgroundcolor": "#E5ECF6",
            "gridcolor": "white",
            "gridwidth": 2,
            "linecolor": "white",
            "showbackground": true,
            "ticks": "",
            "zerolinecolor": "white"
           }
          },
          "shapedefaults": {
           "line": {
            "color": "#2a3f5f"
           }
          },
          "ternary": {
           "aaxis": {
            "gridcolor": "white",
            "linecolor": "white",
            "ticks": ""
           },
           "baxis": {
            "gridcolor": "white",
            "linecolor": "white",
            "ticks": ""
           },
           "bgcolor": "#E5ECF6",
           "caxis": {
            "gridcolor": "white",
            "linecolor": "white",
            "ticks": ""
           }
          },
          "title": {
           "x": 0.05
          },
          "xaxis": {
           "automargin": true,
           "gridcolor": "white",
           "linecolor": "white",
           "ticks": "",
           "title": {
            "standoff": 15
           },
           "zerolinecolor": "white",
           "zerolinewidth": 2
          },
          "yaxis": {
           "automargin": true,
           "gridcolor": "white",
           "linecolor": "white",
           "ticks": "",
           "title": {
            "standoff": 15
           },
           "zerolinecolor": "white",
           "zerolinewidth": 2
          }
         }
        },
        "title": {
         "text": "Evolución de suicidios de personas jóvenes en España"
        },
        "xaxis": {
         "anchor": "y",
         "domain": [
          0,
          0.45
         ]
        },
        "xaxis2": {
         "anchor": "y2",
         "domain": [
          0.55,
          1
         ]
        },
        "yaxis": {
         "anchor": "x",
         "domain": [
          0,
          1
         ]
        },
        "yaxis2": {
         "anchor": "x2",
         "domain": [
          0,
          1
         ]
        }
       }
      },
      "text/html": [
       "<div>                            <div id=\"bcec5aa3-fcbc-4078-a58d-8bd6623c1a6c\" class=\"plotly-graph-div\" style=\"height:525px; width:100%;\"></div>            <script type=\"text/javascript\">                require([\"plotly\"], function(Plotly) {                    window.PLOTLYENV=window.PLOTLYENV || {};                                    if (document.getElementById(\"bcec5aa3-fcbc-4078-a58d-8bd6623c1a6c\")) {                    Plotly.newPlot(                        \"bcec5aa3-fcbc-4078-a58d-8bd6623c1a6c\",                        [{\"marker\":{\"color\":\"red\"},\"name\":\"N\\u00famero de fallecidos por sucidio\",\"x\":[2012,2013,2014,2015,2016,2017,2018,2019,2020,2021],\"y\":[494,458,481,405,370,398,364,406,425,448],\"type\":\"bar\",\"xaxis\":\"x\",\"yaxis\":\"y\"},{\"line\":{\"color\":\"firebrick\",\"width\":4},\"name\":\"Porcentaje de fallecidos por suicidio\",\"x\":[2012,2013,2014,2015,2016,2017,2018,2019,2020,2021],\"y\":[14.919963757173061,16.047652417659425,17.370892018779344,15.857478465152703,14.601420678768745,15.607843137254902,14.152410575427682,16.72158154859967,15.92356687898089,16.290909090909093],\"type\":\"scatter\",\"xaxis\":\"x2\",\"yaxis\":\"y2\"}],                        {\"template\":{\"data\":{\"histogram2dcontour\":[{\"type\":\"histogram2dcontour\",\"colorbar\":{\"outlinewidth\":0,\"ticks\":\"\"},\"colorscale\":[[0.0,\"#0d0887\"],[0.1111111111111111,\"#46039f\"],[0.2222222222222222,\"#7201a8\"],[0.3333333333333333,\"#9c179e\"],[0.4444444444444444,\"#bd3786\"],[0.5555555555555556,\"#d8576b\"],[0.6666666666666666,\"#ed7953\"],[0.7777777777777778,\"#fb9f3a\"],[0.8888888888888888,\"#fdca26\"],[1.0,\"#f0f921\"]]}],\"choropleth\":[{\"type\":\"choropleth\",\"colorbar\":{\"outlinewidth\":0,\"ticks\":\"\"}}],\"histogram2d\":[{\"type\":\"histogram2d\",\"colorbar\":{\"outlinewidth\":0,\"ticks\":\"\"},\"colorscale\":[[0.0,\"#0d0887\"],[0.1111111111111111,\"#46039f\"],[0.2222222222222222,\"#7201a8\"],[0.3333333333333333,\"#9c179e\"],[0.4444444444444444,\"#bd3786\"],[0.5555555555555556,\"#d8576b\"],[0.6666666666666666,\"#ed7953\"],[0.7777777777777778,\"#fb9f3a\"],[0.8888888888888888,\"#fdca26\"],[1.0,\"#f0f921\"]]}],\"heatmap\":[{\"type\":\"heatmap\",\"colorbar\":{\"outlinewidth\":0,\"ticks\":\"\"},\"colorscale\":[[0.0,\"#0d0887\"],[0.1111111111111111,\"#46039f\"],[0.2222222222222222,\"#7201a8\"],[0.3333333333333333,\"#9c179e\"],[0.4444444444444444,\"#bd3786\"],[0.5555555555555556,\"#d8576b\"],[0.6666666666666666,\"#ed7953\"],[0.7777777777777778,\"#fb9f3a\"],[0.8888888888888888,\"#fdca26\"],[1.0,\"#f0f921\"]]}],\"heatmapgl\":[{\"type\":\"heatmapgl\",\"colorbar\":{\"outlinewidth\":0,\"ticks\":\"\"},\"colorscale\":[[0.0,\"#0d0887\"],[0.1111111111111111,\"#46039f\"],[0.2222222222222222,\"#7201a8\"],[0.3333333333333333,\"#9c179e\"],[0.4444444444444444,\"#bd3786\"],[0.5555555555555556,\"#d8576b\"],[0.6666666666666666,\"#ed7953\"],[0.7777777777777778,\"#fb9f3a\"],[0.8888888888888888,\"#fdca26\"],[1.0,\"#f0f921\"]]}],\"contourcarpet\":[{\"type\":\"contourcarpet\",\"colorbar\":{\"outlinewidth\":0,\"ticks\":\"\"}}],\"contour\":[{\"type\":\"contour\",\"colorbar\":{\"outlinewidth\":0,\"ticks\":\"\"},\"colorscale\":[[0.0,\"#0d0887\"],[0.1111111111111111,\"#46039f\"],[0.2222222222222222,\"#7201a8\"],[0.3333333333333333,\"#9c179e\"],[0.4444444444444444,\"#bd3786\"],[0.5555555555555556,\"#d8576b\"],[0.6666666666666666,\"#ed7953\"],[0.7777777777777778,\"#fb9f3a\"],[0.8888888888888888,\"#fdca26\"],[1.0,\"#f0f921\"]]}],\"surface\":[{\"type\":\"surface\",\"colorbar\":{\"outlinewidth\":0,\"ticks\":\"\"},\"colorscale\":[[0.0,\"#0d0887\"],[0.1111111111111111,\"#46039f\"],[0.2222222222222222,\"#7201a8\"],[0.3333333333333333,\"#9c179e\"],[0.4444444444444444,\"#bd3786\"],[0.5555555555555556,\"#d8576b\"],[0.6666666666666666,\"#ed7953\"],[0.7777777777777778,\"#fb9f3a\"],[0.8888888888888888,\"#fdca26\"],[1.0,\"#f0f921\"]]}],\"mesh3d\":[{\"type\":\"mesh3d\",\"colorbar\":{\"outlinewidth\":0,\"ticks\":\"\"}}],\"scatter\":[{\"fillpattern\":{\"fillmode\":\"overlay\",\"size\":10,\"solidity\":0.2},\"type\":\"scatter\"}],\"parcoords\":[{\"type\":\"parcoords\",\"line\":{\"colorbar\":{\"outlinewidth\":0,\"ticks\":\"\"}}}],\"scatterpolargl\":[{\"type\":\"scatterpolargl\",\"marker\":{\"colorbar\":{\"outlinewidth\":0,\"ticks\":\"\"}}}],\"bar\":[{\"error_x\":{\"color\":\"#2a3f5f\"},\"error_y\":{\"color\":\"#2a3f5f\"},\"marker\":{\"line\":{\"color\":\"#E5ECF6\",\"width\":0.5},\"pattern\":{\"fillmode\":\"overlay\",\"size\":10,\"solidity\":0.2}},\"type\":\"bar\"}],\"scattergeo\":[{\"type\":\"scattergeo\",\"marker\":{\"colorbar\":{\"outlinewidth\":0,\"ticks\":\"\"}}}],\"scatterpolar\":[{\"type\":\"scatterpolar\",\"marker\":{\"colorbar\":{\"outlinewidth\":0,\"ticks\":\"\"}}}],\"histogram\":[{\"marker\":{\"pattern\":{\"fillmode\":\"overlay\",\"size\":10,\"solidity\":0.2}},\"type\":\"histogram\"}],\"scattergl\":[{\"type\":\"scattergl\",\"marker\":{\"colorbar\":{\"outlinewidth\":0,\"ticks\":\"\"}}}],\"scatter3d\":[{\"type\":\"scatter3d\",\"line\":{\"colorbar\":{\"outlinewidth\":0,\"ticks\":\"\"}},\"marker\":{\"colorbar\":{\"outlinewidth\":0,\"ticks\":\"\"}}}],\"scattermapbox\":[{\"type\":\"scattermapbox\",\"marker\":{\"colorbar\":{\"outlinewidth\":0,\"ticks\":\"\"}}}],\"scatterternary\":[{\"type\":\"scatterternary\",\"marker\":{\"colorbar\":{\"outlinewidth\":0,\"ticks\":\"\"}}}],\"scattercarpet\":[{\"type\":\"scattercarpet\",\"marker\":{\"colorbar\":{\"outlinewidth\":0,\"ticks\":\"\"}}}],\"carpet\":[{\"aaxis\":{\"endlinecolor\":\"#2a3f5f\",\"gridcolor\":\"white\",\"linecolor\":\"white\",\"minorgridcolor\":\"white\",\"startlinecolor\":\"#2a3f5f\"},\"baxis\":{\"endlinecolor\":\"#2a3f5f\",\"gridcolor\":\"white\",\"linecolor\":\"white\",\"minorgridcolor\":\"white\",\"startlinecolor\":\"#2a3f5f\"},\"type\":\"carpet\"}],\"table\":[{\"cells\":{\"fill\":{\"color\":\"#EBF0F8\"},\"line\":{\"color\":\"white\"}},\"header\":{\"fill\":{\"color\":\"#C8D4E3\"},\"line\":{\"color\":\"white\"}},\"type\":\"table\"}],\"barpolar\":[{\"marker\":{\"line\":{\"color\":\"#E5ECF6\",\"width\":0.5},\"pattern\":{\"fillmode\":\"overlay\",\"size\":10,\"solidity\":0.2}},\"type\":\"barpolar\"}],\"pie\":[{\"automargin\":true,\"type\":\"pie\"}]},\"layout\":{\"autotypenumbers\":\"strict\",\"colorway\":[\"#636efa\",\"#EF553B\",\"#00cc96\",\"#ab63fa\",\"#FFA15A\",\"#19d3f3\",\"#FF6692\",\"#B6E880\",\"#FF97FF\",\"#FECB52\"],\"font\":{\"color\":\"#2a3f5f\"},\"hovermode\":\"closest\",\"hoverlabel\":{\"align\":\"left\"},\"paper_bgcolor\":\"white\",\"plot_bgcolor\":\"#E5ECF6\",\"polar\":{\"bgcolor\":\"#E5ECF6\",\"angularaxis\":{\"gridcolor\":\"white\",\"linecolor\":\"white\",\"ticks\":\"\"},\"radialaxis\":{\"gridcolor\":\"white\",\"linecolor\":\"white\",\"ticks\":\"\"}},\"ternary\":{\"bgcolor\":\"#E5ECF6\",\"aaxis\":{\"gridcolor\":\"white\",\"linecolor\":\"white\",\"ticks\":\"\"},\"baxis\":{\"gridcolor\":\"white\",\"linecolor\":\"white\",\"ticks\":\"\"},\"caxis\":{\"gridcolor\":\"white\",\"linecolor\":\"white\",\"ticks\":\"\"}},\"coloraxis\":{\"colorbar\":{\"outlinewidth\":0,\"ticks\":\"\"}},\"colorscale\":{\"sequential\":[[0.0,\"#0d0887\"],[0.1111111111111111,\"#46039f\"],[0.2222222222222222,\"#7201a8\"],[0.3333333333333333,\"#9c179e\"],[0.4444444444444444,\"#bd3786\"],[0.5555555555555556,\"#d8576b\"],[0.6666666666666666,\"#ed7953\"],[0.7777777777777778,\"#fb9f3a\"],[0.8888888888888888,\"#fdca26\"],[1.0,\"#f0f921\"]],\"sequentialminus\":[[0.0,\"#0d0887\"],[0.1111111111111111,\"#46039f\"],[0.2222222222222222,\"#7201a8\"],[0.3333333333333333,\"#9c179e\"],[0.4444444444444444,\"#bd3786\"],[0.5555555555555556,\"#d8576b\"],[0.6666666666666666,\"#ed7953\"],[0.7777777777777778,\"#fb9f3a\"],[0.8888888888888888,\"#fdca26\"],[1.0,\"#f0f921\"]],\"diverging\":[[0,\"#8e0152\"],[0.1,\"#c51b7d\"],[0.2,\"#de77ae\"],[0.3,\"#f1b6da\"],[0.4,\"#fde0ef\"],[0.5,\"#f7f7f7\"],[0.6,\"#e6f5d0\"],[0.7,\"#b8e186\"],[0.8,\"#7fbc41\"],[0.9,\"#4d9221\"],[1,\"#276419\"]]},\"xaxis\":{\"gridcolor\":\"white\",\"linecolor\":\"white\",\"ticks\":\"\",\"title\":{\"standoff\":15},\"zerolinecolor\":\"white\",\"automargin\":true,\"zerolinewidth\":2},\"yaxis\":{\"gridcolor\":\"white\",\"linecolor\":\"white\",\"ticks\":\"\",\"title\":{\"standoff\":15},\"zerolinecolor\":\"white\",\"automargin\":true,\"zerolinewidth\":2},\"scene\":{\"xaxis\":{\"backgroundcolor\":\"#E5ECF6\",\"gridcolor\":\"white\",\"linecolor\":\"white\",\"showbackground\":true,\"ticks\":\"\",\"zerolinecolor\":\"white\",\"gridwidth\":2},\"yaxis\":{\"backgroundcolor\":\"#E5ECF6\",\"gridcolor\":\"white\",\"linecolor\":\"white\",\"showbackground\":true,\"ticks\":\"\",\"zerolinecolor\":\"white\",\"gridwidth\":2},\"zaxis\":{\"backgroundcolor\":\"#E5ECF6\",\"gridcolor\":\"white\",\"linecolor\":\"white\",\"showbackground\":true,\"ticks\":\"\",\"zerolinecolor\":\"white\",\"gridwidth\":2}},\"shapedefaults\":{\"line\":{\"color\":\"#2a3f5f\"}},\"annotationdefaults\":{\"arrowcolor\":\"#2a3f5f\",\"arrowhead\":0,\"arrowwidth\":1},\"geo\":{\"bgcolor\":\"white\",\"landcolor\":\"#E5ECF6\",\"subunitcolor\":\"white\",\"showland\":true,\"showlakes\":true,\"lakecolor\":\"white\"},\"title\":{\"x\":0.05},\"mapbox\":{\"style\":\"light\"}}},\"xaxis\":{\"anchor\":\"y\",\"domain\":[0.0,0.45]},\"yaxis\":{\"anchor\":\"x\",\"domain\":[0.0,1.0]},\"xaxis2\":{\"anchor\":\"y2\",\"domain\":[0.55,1.0]},\"yaxis2\":{\"anchor\":\"x2\",\"domain\":[0.0,1.0]},\"title\":{\"text\":\"Evoluci\\u00f3n de suicidios de personas j\\u00f3venes en Espa\\u00f1a\"}},                        {\"responsive\": true}                    ).then(function(){\n",
       "                            \n",
       "var gd = document.getElementById('bcec5aa3-fcbc-4078-a58d-8bd6623c1a6c');\n",
       "var x = new MutationObserver(function (mutations, observer) {{\n",
       "        var display = window.getComputedStyle(gd).display;\n",
       "        if (!display || display === 'none') {{\n",
       "            console.log([gd, 'removed!']);\n",
       "            Plotly.purge(gd);\n",
       "            observer.disconnect();\n",
       "        }}\n",
       "}});\n",
       "\n",
       "// Listen for the removal of the full notebook cells\n",
       "var notebookContainer = gd.closest('#notebook-container');\n",
       "if (notebookContainer) {{\n",
       "    x.observe(notebookContainer, {childList: true});\n",
       "}}\n",
       "\n",
       "// Listen for the clearing of the current output cell\n",
       "var outputEl = gd.closest('.output');\n",
       "if (outputEl) {{\n",
       "    x.observe(outputEl, {childList: true});\n",
       "}}\n",
       "\n",
       "                        })                };                });            </script>        </div>"
      ]
     },
     "metadata": {},
     "output_type": "display_data"
    }
   ],
   "source": [
    "fig_barras = go.Figure(go.Bar(\n",
    "    x=totales_suicidios['Año'],\n",
    "    y=totales_suicidios['Defunciones por suicidio'],\n",
    "    marker=dict(\n",
    "        color='red'),\n",
    "    name='Número de fallecidos por sucidio'\n",
    "))\n",
    "\n",
    "fig_lineal = go.Figure(go.Scatter(\n",
    "    x=porcentaje_suicidios['Año'],\n",
    "    y=porcentaje_suicidios['Porcentaje'],\n",
    "    name='Porcentaje de fallecidos por suicidio',\n",
    "    line=dict(color='firebrick', width=4)\n",
    "))\n",
    "\n",
    "fig_barras.update_layout(\n",
    "    yaxis=dict(\n",
    "        title='Número de fallecidos por sucidio',\n",
    "        tickformat='$,.0f',\n",
    "        showgrid=False\n",
    "    ),\n",
    "    legend=dict(\n",
    "        x=0.8,\n",
    "        y=1.1,\n",
    "        orientation='h'\n",
    "    )\n",
    ")\n",
    "\n",
    "fig_lineal.update_layout(\n",
    "    yaxis=dict(\n",
    "        title='Porcentaje defunciones',\n",
    "        tickformat='$,.0f',\n",
    "        showgrid=False\n",
    "    ),\n",
    "    legend=dict(\n",
    "        x=0.8,\n",
    "        y=1.1,\n",
    "        orientation='h'\n",
    "    )\n",
    ")\n",
    "\n",
    "fig = make_subplots(rows=1, cols=2)\n",
    "\n",
    "fig.add_trace(fig_barras.data[0], row=1, col=1)\n",
    "fig.add_trace(fig_lineal.data[0], row=1, col=2)\n",
    "\n",
    "fig.update_layout(title_text=\"Evolución de suicidios de personas jóvenes en España\")\n",
    "\n",
    "fig.show()"
   ]
  },
  {
   "cell_type": "code",
   "execution_count": 32,
   "metadata": {},
   "outputs": [],
   "source": [
    "Año = [2012, 2013, 2014, 2015, 2016, 2017, 2018, 2019, 2020, 2021]\n",
    "Totales = [total_suicidios2012, total_suicidios2013, total_suicidios2014, total_suicidios2015, total_suicidios2016, total_suicidios2017, total_suicidios2018, total_suicidios2019,total_suicidios2020, total_suicidios2021]\n",
    "Porcentajes1 = [porcentaje_suicidios2012, porcentaje_suicidios2013, porcentaje_suicidios2014, porcentaje_suicidios2015, porcentaje_suicidios2016, porcentaje_suicidios2017, porcentaje_suicidios2018, porcentaje_suicidios2019, porcentaje_suicidios2020, porcentaje_suicidios2021]\n",
    "\n",
    "BI_suicidios = pd.DataFrame({\"Año\" : Año, \"Defunciones por suicidio\" : Totales, \"Porcentaje sobre el total de defunciones\": Porcentajes1})\n",
    "BI_suicidios.to_excel('BI_suicidios.xlsx')"
   ]
  },
  {
   "cell_type": "markdown",
   "metadata": {},
   "source": [
    "- Accidentes de tráfico"
   ]
  },
  {
   "cell_type": "code",
   "execution_count": 33,
   "metadata": {},
   "outputs": [],
   "source": [
    "porcentaje_accidentes2021 = top10_2021.loc[top10_2021['2021'] == 'Accidentes de tráfico', 'Porcentaje']\n",
    "porcentaje_accidentes2021 = float(porcentaje_accidentes2021)\n",
    "\n",
    "total_accidentes2021 = top10_2021.loc[top10_2021['2021'] == 'Accidentes de tráfico', 'Total']\n",
    "total_accidentes2021 = int(total_accidentes2021)\n",
    "\n",
    "porcentaje_accidentes2020 = top10_2020.loc[top10_2020['2020'] == 'Accidentes de tráfico', 'Porcentaje']\n",
    "porcentaje_accidentes2020 = float(porcentaje_accidentes2020)\n",
    "total_accidentes2020 = top10_2020.loc[top10_2020['2020'] == 'Accidentes de tráfico', 'Total']\n",
    "total_accidentes2020 = int(total_accidentes2020)\n",
    "\n",
    "porcentaje_accidentes2019 = top10_2019.loc[top10_2019['2019'] == 'Accidentes de tráfico', 'Porcentaje']\n",
    "porcentaje_accidentes2019 = float(porcentaje_accidentes2019)\n",
    "total_accidentes2019 = top10_2019.loc[top10_2019['2019'] == 'Accidentes de tráfico', 'Total']\n",
    "total_accidentes2019 = int(total_accidentes2019)\n",
    "\n",
    "porcentaje_accidentes2018 = top10_2018.loc[top10_2018['2018'] == 'Accidentes de tráfico', 'Porcentaje']\n",
    "porcentaje_accidentes2018 = float(porcentaje_accidentes2018)\n",
    "total_accidentes2018 = top10_2018.loc[top10_2018['2018'] == 'Accidentes de tráfico', 'Total']\n",
    "total_accidentes2018 = int(total_accidentes2018)\n",
    "\n",
    "porcentaje_accidentes2017 = top10_2017.loc[top10_2017['2017'] == 'Accidentes de tráfico', 'Porcentaje']\n",
    "porcentaje_accidentes2017 = float(porcentaje_accidentes2017)\n",
    "total_accidentes2017 = top10_2017.loc[top10_2017['2017'] == 'Accidentes de tráfico', 'Total']\n",
    "total_accidentes2017 = int(total_accidentes2017)\n",
    "\n",
    "porcentaje_accidentes2016 = top10_2016.loc[top10_2016['2016'] == 'Accidentes de tráfico', 'Porcentaje']\n",
    "porcentaje_accidentes2016 = float(porcentaje_accidentes2016)\n",
    "total_accidentes2016 = top10_2016.loc[top10_2016['2016'] == 'Accidentes de tráfico', 'Total']\n",
    "total_accidentes2016 = int(total_accidentes2016)\n",
    "\n",
    "porcentaje_accidentes2015 = top10_2015.loc[top10_2015['2015'] == 'Accidentes de tráfico de vehículos de motor', 'Porcentaje']\n",
    "porcentaje_accidentes2015 = float(porcentaje_accidentes2015)\n",
    "total_accidentes2015 = top10_2015.loc[top10_2015['2015'] == 'Accidentes de tráfico de vehículos de motor', 'Total']\n",
    "total_accidentes2015 = int(total_accidentes2015)\n",
    "\n",
    "porcentaje_accidentes2014 = top10_2014.loc[top10_2014['2014'] == 'Accidentes de tráfico de vehículos de motor', 'Porcentaje']\n",
    "porcentaje_accidentes2014 = float(porcentaje_accidentes2014)\n",
    "total_accidentes2014 = top10_2014.loc[top10_2014['2014'] == 'Accidentes de tráfico de vehículos de motor', 'Total']\n",
    "total_accidentes2014 = int(total_accidentes2014)\n",
    "\n",
    "porcentaje_accidentes2013 = top10_2013.loc[top10_2013['2013'] == 'Accidentes de tráfico de vehículos de motor', 'Porcentaje']\n",
    "porcentaje_accidentes2013 = float(porcentaje_accidentes2013)\n",
    "total_accidentes2013 = top10_2013.loc[top10_2013['2013'] == 'Accidentes de tráfico de vehículos de motor', 'Total']\n",
    "total_accidentes2013 = int(total_accidentes2013)\n",
    "\n",
    "porcentaje_accidentes2012 = top10_2012.loc[top10_2012['2012'] == 'Accidentes de tráfico de vehículos de motor', 'Porcentaje']\n",
    "porcentaje_accidentes2012 = float(porcentaje_accidentes2012)\n",
    "total_accidentes2012 = top10_2012.loc[top10_2012['2012'] == 'Accidentes de tráfico de vehículos de motor', 'Total']\n",
    "total_accidentes2012 = int(total_accidentes2012)"
   ]
  },
  {
   "cell_type": "code",
   "execution_count": 34,
   "metadata": {},
   "outputs": [],
   "source": [
    "Año2 = [2012, 2013, 2014, 2015, 2016, 2017, 2018, 2019, 2020, 2021]\n",
    "Porcentajes2 = [porcentaje_accidentes2012, porcentaje_accidentes2013, porcentaje_accidentes2014, porcentaje_accidentes2015, porcentaje_accidentes2016, porcentaje_accidentes2017, porcentaje_accidentes2018, porcentaje_accidentes2019, porcentaje_accidentes2020, porcentaje_accidentes2021]"
   ]
  },
  {
   "cell_type": "code",
   "execution_count": 35,
   "metadata": {},
   "outputs": [
    {
     "data": {
      "text/html": [
       "<div>\n",
       "<style scoped>\n",
       "    .dataframe tbody tr th:only-of-type {\n",
       "        vertical-align: middle;\n",
       "    }\n",
       "\n",
       "    .dataframe tbody tr th {\n",
       "        vertical-align: top;\n",
       "    }\n",
       "\n",
       "    .dataframe thead th {\n",
       "        text-align: right;\n",
       "    }\n",
       "</style>\n",
       "<table border=\"1\" class=\"dataframe\">\n",
       "  <thead>\n",
       "    <tr style=\"text-align: right;\">\n",
       "      <th></th>\n",
       "      <th>Año</th>\n",
       "      <th>Porcentaje</th>\n",
       "    </tr>\n",
       "  </thead>\n",
       "  <tbody>\n",
       "    <tr>\n",
       "      <th>0</th>\n",
       "      <td>2012</td>\n",
       "      <td>12.443371</td>\n",
       "    </tr>\n",
       "    <tr>\n",
       "      <th>1</th>\n",
       "      <td>2013</td>\n",
       "      <td>12.718991</td>\n",
       "    </tr>\n",
       "    <tr>\n",
       "      <th>2</th>\n",
       "      <td>2014</td>\n",
       "      <td>11.989888</td>\n",
       "    </tr>\n",
       "    <tr>\n",
       "      <th>3</th>\n",
       "      <td>2015</td>\n",
       "      <td>14.761159</td>\n",
       "    </tr>\n",
       "    <tr>\n",
       "      <th>4</th>\n",
       "      <td>2016</td>\n",
       "      <td>14.246251</td>\n",
       "    </tr>\n",
       "    <tr>\n",
       "      <th>5</th>\n",
       "      <td>2017</td>\n",
       "      <td>16.509804</td>\n",
       "    </tr>\n",
       "    <tr>\n",
       "      <th>6</th>\n",
       "      <td>2018</td>\n",
       "      <td>15.085537</td>\n",
       "    </tr>\n",
       "    <tr>\n",
       "      <th>7</th>\n",
       "      <td>2019</td>\n",
       "      <td>14.126853</td>\n",
       "    </tr>\n",
       "    <tr>\n",
       "      <th>8</th>\n",
       "      <td>2020</td>\n",
       "      <td>10.790558</td>\n",
       "    </tr>\n",
       "    <tr>\n",
       "      <th>9</th>\n",
       "      <td>2021</td>\n",
       "      <td>11.963636</td>\n",
       "    </tr>\n",
       "  </tbody>\n",
       "</table>\n",
       "</div>"
      ],
      "text/plain": [
       "    Año  Porcentaje\n",
       "0  2012   12.443371\n",
       "1  2013   12.718991\n",
       "2  2014   11.989888\n",
       "3  2015   14.761159\n",
       "4  2016   14.246251\n",
       "5  2017   16.509804\n",
       "6  2018   15.085537\n",
       "7  2019   14.126853\n",
       "8  2020   10.790558\n",
       "9  2021   11.963636"
      ]
     },
     "execution_count": 35,
     "metadata": {},
     "output_type": "execute_result"
    }
   ],
   "source": [
    "porcentaje_accidentes = pd.DataFrame({\"Año\" : Año2, \"Porcentaje\" : Porcentajes2})\n",
    "porcentaje_accidentes"
   ]
  },
  {
   "cell_type": "code",
   "execution_count": 36,
   "metadata": {},
   "outputs": [],
   "source": [
    "Año = [2012, 2013, 2014, 2015, 2016, 2017, 2018, 2019, 2020, 2021]\n",
    "Totales = [total_accidentes2012, total_accidentes2013, total_accidentes2014, total_accidentes2015, total_accidentes2016, total_accidentes2017, total_accidentes2018, total_accidentes2019,total_accidentes2020, total_accidentes2021]"
   ]
  },
  {
   "cell_type": "code",
   "execution_count": 37,
   "metadata": {},
   "outputs": [
    {
     "data": {
      "text/html": [
       "<div>\n",
       "<style scoped>\n",
       "    .dataframe tbody tr th:only-of-type {\n",
       "        vertical-align: middle;\n",
       "    }\n",
       "\n",
       "    .dataframe tbody tr th {\n",
       "        vertical-align: top;\n",
       "    }\n",
       "\n",
       "    .dataframe thead th {\n",
       "        text-align: right;\n",
       "    }\n",
       "</style>\n",
       "<table border=\"1\" class=\"dataframe\">\n",
       "  <thead>\n",
       "    <tr style=\"text-align: right;\">\n",
       "      <th></th>\n",
       "      <th>Año</th>\n",
       "      <th>Defunciones por accidente de tráfico</th>\n",
       "    </tr>\n",
       "  </thead>\n",
       "  <tbody>\n",
       "    <tr>\n",
       "      <th>0</th>\n",
       "      <td>2012</td>\n",
       "      <td>412</td>\n",
       "    </tr>\n",
       "    <tr>\n",
       "      <th>1</th>\n",
       "      <td>2013</td>\n",
       "      <td>363</td>\n",
       "    </tr>\n",
       "    <tr>\n",
       "      <th>2</th>\n",
       "      <td>2014</td>\n",
       "      <td>332</td>\n",
       "    </tr>\n",
       "    <tr>\n",
       "      <th>3</th>\n",
       "      <td>2015</td>\n",
       "      <td>377</td>\n",
       "    </tr>\n",
       "    <tr>\n",
       "      <th>4</th>\n",
       "      <td>2016</td>\n",
       "      <td>361</td>\n",
       "    </tr>\n",
       "    <tr>\n",
       "      <th>5</th>\n",
       "      <td>2017</td>\n",
       "      <td>421</td>\n",
       "    </tr>\n",
       "    <tr>\n",
       "      <th>6</th>\n",
       "      <td>2018</td>\n",
       "      <td>388</td>\n",
       "    </tr>\n",
       "    <tr>\n",
       "      <th>7</th>\n",
       "      <td>2019</td>\n",
       "      <td>343</td>\n",
       "    </tr>\n",
       "    <tr>\n",
       "      <th>8</th>\n",
       "      <td>2020</td>\n",
       "      <td>288</td>\n",
       "    </tr>\n",
       "    <tr>\n",
       "      <th>9</th>\n",
       "      <td>2021</td>\n",
       "      <td>329</td>\n",
       "    </tr>\n",
       "  </tbody>\n",
       "</table>\n",
       "</div>"
      ],
      "text/plain": [
       "    Año  Defunciones por accidente de tráfico\n",
       "0  2012                                   412\n",
       "1  2013                                   363\n",
       "2  2014                                   332\n",
       "3  2015                                   377\n",
       "4  2016                                   361\n",
       "5  2017                                   421\n",
       "6  2018                                   388\n",
       "7  2019                                   343\n",
       "8  2020                                   288\n",
       "9  2021                                   329"
      ]
     },
     "execution_count": 37,
     "metadata": {},
     "output_type": "execute_result"
    }
   ],
   "source": [
    "totales_accidentes = pd.DataFrame({\"Año\" : Año, \"Defunciones por accidente de tráfico\" : Totales})\n",
    "totales_accidentes"
   ]
  },
  {
   "cell_type": "code",
   "execution_count": 38,
   "metadata": {},
   "outputs": [
    {
     "data": {
      "application/vnd.plotly.v1+json": {
       "config": {
        "plotlyServerURL": "https://plot.ly"
       },
       "data": [
        {
         "marker": {
          "color": "blue"
         },
         "name": "Número de fallecidos por accidente de tráfico",
         "type": "bar",
         "x": [
          2012,
          2013,
          2014,
          2015,
          2016,
          2017,
          2018,
          2019,
          2020,
          2021
         ],
         "xaxis": "x",
         "y": [
          412,
          363,
          332,
          377,
          361,
          421,
          388,
          343,
          288,
          329
         ],
         "yaxis": "y"
        },
        {
         "line": {
          "color": "darkblue",
          "width": 4
         },
         "name": "Porcentaje de fallecidos por suicidio",
         "type": "scatter",
         "x": [
          2012,
          2013,
          2014,
          2015,
          2016,
          2017,
          2018,
          2019,
          2020,
          2021
         ],
         "xaxis": "x2",
         "y": [
          12.443370582905466,
          12.718990889978976,
          11.989888046226074,
          14.76115896632733,
          14.24625098658248,
          16.50980392156863,
          15.085536547433904,
          14.126853377265238,
          10.790558261521168,
          11.963636363636363
         ],
         "yaxis": "y2"
        }
       ],
       "layout": {
        "template": {
         "data": {
          "bar": [
           {
            "error_x": {
             "color": "#2a3f5f"
            },
            "error_y": {
             "color": "#2a3f5f"
            },
            "marker": {
             "line": {
              "color": "#E5ECF6",
              "width": 0.5
             },
             "pattern": {
              "fillmode": "overlay",
              "size": 10,
              "solidity": 0.2
             }
            },
            "type": "bar"
           }
          ],
          "barpolar": [
           {
            "marker": {
             "line": {
              "color": "#E5ECF6",
              "width": 0.5
             },
             "pattern": {
              "fillmode": "overlay",
              "size": 10,
              "solidity": 0.2
             }
            },
            "type": "barpolar"
           }
          ],
          "carpet": [
           {
            "aaxis": {
             "endlinecolor": "#2a3f5f",
             "gridcolor": "white",
             "linecolor": "white",
             "minorgridcolor": "white",
             "startlinecolor": "#2a3f5f"
            },
            "baxis": {
             "endlinecolor": "#2a3f5f",
             "gridcolor": "white",
             "linecolor": "white",
             "minorgridcolor": "white",
             "startlinecolor": "#2a3f5f"
            },
            "type": "carpet"
           }
          ],
          "choropleth": [
           {
            "colorbar": {
             "outlinewidth": 0,
             "ticks": ""
            },
            "type": "choropleth"
           }
          ],
          "contour": [
           {
            "colorbar": {
             "outlinewidth": 0,
             "ticks": ""
            },
            "colorscale": [
             [
              0,
              "#0d0887"
             ],
             [
              0.1111111111111111,
              "#46039f"
             ],
             [
              0.2222222222222222,
              "#7201a8"
             ],
             [
              0.3333333333333333,
              "#9c179e"
             ],
             [
              0.4444444444444444,
              "#bd3786"
             ],
             [
              0.5555555555555556,
              "#d8576b"
             ],
             [
              0.6666666666666666,
              "#ed7953"
             ],
             [
              0.7777777777777778,
              "#fb9f3a"
             ],
             [
              0.8888888888888888,
              "#fdca26"
             ],
             [
              1,
              "#f0f921"
             ]
            ],
            "type": "contour"
           }
          ],
          "contourcarpet": [
           {
            "colorbar": {
             "outlinewidth": 0,
             "ticks": ""
            },
            "type": "contourcarpet"
           }
          ],
          "heatmap": [
           {
            "colorbar": {
             "outlinewidth": 0,
             "ticks": ""
            },
            "colorscale": [
             [
              0,
              "#0d0887"
             ],
             [
              0.1111111111111111,
              "#46039f"
             ],
             [
              0.2222222222222222,
              "#7201a8"
             ],
             [
              0.3333333333333333,
              "#9c179e"
             ],
             [
              0.4444444444444444,
              "#bd3786"
             ],
             [
              0.5555555555555556,
              "#d8576b"
             ],
             [
              0.6666666666666666,
              "#ed7953"
             ],
             [
              0.7777777777777778,
              "#fb9f3a"
             ],
             [
              0.8888888888888888,
              "#fdca26"
             ],
             [
              1,
              "#f0f921"
             ]
            ],
            "type": "heatmap"
           }
          ],
          "heatmapgl": [
           {
            "colorbar": {
             "outlinewidth": 0,
             "ticks": ""
            },
            "colorscale": [
             [
              0,
              "#0d0887"
             ],
             [
              0.1111111111111111,
              "#46039f"
             ],
             [
              0.2222222222222222,
              "#7201a8"
             ],
             [
              0.3333333333333333,
              "#9c179e"
             ],
             [
              0.4444444444444444,
              "#bd3786"
             ],
             [
              0.5555555555555556,
              "#d8576b"
             ],
             [
              0.6666666666666666,
              "#ed7953"
             ],
             [
              0.7777777777777778,
              "#fb9f3a"
             ],
             [
              0.8888888888888888,
              "#fdca26"
             ],
             [
              1,
              "#f0f921"
             ]
            ],
            "type": "heatmapgl"
           }
          ],
          "histogram": [
           {
            "marker": {
             "pattern": {
              "fillmode": "overlay",
              "size": 10,
              "solidity": 0.2
             }
            },
            "type": "histogram"
           }
          ],
          "histogram2d": [
           {
            "colorbar": {
             "outlinewidth": 0,
             "ticks": ""
            },
            "colorscale": [
             [
              0,
              "#0d0887"
             ],
             [
              0.1111111111111111,
              "#46039f"
             ],
             [
              0.2222222222222222,
              "#7201a8"
             ],
             [
              0.3333333333333333,
              "#9c179e"
             ],
             [
              0.4444444444444444,
              "#bd3786"
             ],
             [
              0.5555555555555556,
              "#d8576b"
             ],
             [
              0.6666666666666666,
              "#ed7953"
             ],
             [
              0.7777777777777778,
              "#fb9f3a"
             ],
             [
              0.8888888888888888,
              "#fdca26"
             ],
             [
              1,
              "#f0f921"
             ]
            ],
            "type": "histogram2d"
           }
          ],
          "histogram2dcontour": [
           {
            "colorbar": {
             "outlinewidth": 0,
             "ticks": ""
            },
            "colorscale": [
             [
              0,
              "#0d0887"
             ],
             [
              0.1111111111111111,
              "#46039f"
             ],
             [
              0.2222222222222222,
              "#7201a8"
             ],
             [
              0.3333333333333333,
              "#9c179e"
             ],
             [
              0.4444444444444444,
              "#bd3786"
             ],
             [
              0.5555555555555556,
              "#d8576b"
             ],
             [
              0.6666666666666666,
              "#ed7953"
             ],
             [
              0.7777777777777778,
              "#fb9f3a"
             ],
             [
              0.8888888888888888,
              "#fdca26"
             ],
             [
              1,
              "#f0f921"
             ]
            ],
            "type": "histogram2dcontour"
           }
          ],
          "mesh3d": [
           {
            "colorbar": {
             "outlinewidth": 0,
             "ticks": ""
            },
            "type": "mesh3d"
           }
          ],
          "parcoords": [
           {
            "line": {
             "colorbar": {
              "outlinewidth": 0,
              "ticks": ""
             }
            },
            "type": "parcoords"
           }
          ],
          "pie": [
           {
            "automargin": true,
            "type": "pie"
           }
          ],
          "scatter": [
           {
            "fillpattern": {
             "fillmode": "overlay",
             "size": 10,
             "solidity": 0.2
            },
            "type": "scatter"
           }
          ],
          "scatter3d": [
           {
            "line": {
             "colorbar": {
              "outlinewidth": 0,
              "ticks": ""
             }
            },
            "marker": {
             "colorbar": {
              "outlinewidth": 0,
              "ticks": ""
             }
            },
            "type": "scatter3d"
           }
          ],
          "scattercarpet": [
           {
            "marker": {
             "colorbar": {
              "outlinewidth": 0,
              "ticks": ""
             }
            },
            "type": "scattercarpet"
           }
          ],
          "scattergeo": [
           {
            "marker": {
             "colorbar": {
              "outlinewidth": 0,
              "ticks": ""
             }
            },
            "type": "scattergeo"
           }
          ],
          "scattergl": [
           {
            "marker": {
             "colorbar": {
              "outlinewidth": 0,
              "ticks": ""
             }
            },
            "type": "scattergl"
           }
          ],
          "scattermapbox": [
           {
            "marker": {
             "colorbar": {
              "outlinewidth": 0,
              "ticks": ""
             }
            },
            "type": "scattermapbox"
           }
          ],
          "scatterpolar": [
           {
            "marker": {
             "colorbar": {
              "outlinewidth": 0,
              "ticks": ""
             }
            },
            "type": "scatterpolar"
           }
          ],
          "scatterpolargl": [
           {
            "marker": {
             "colorbar": {
              "outlinewidth": 0,
              "ticks": ""
             }
            },
            "type": "scatterpolargl"
           }
          ],
          "scatterternary": [
           {
            "marker": {
             "colorbar": {
              "outlinewidth": 0,
              "ticks": ""
             }
            },
            "type": "scatterternary"
           }
          ],
          "surface": [
           {
            "colorbar": {
             "outlinewidth": 0,
             "ticks": ""
            },
            "colorscale": [
             [
              0,
              "#0d0887"
             ],
             [
              0.1111111111111111,
              "#46039f"
             ],
             [
              0.2222222222222222,
              "#7201a8"
             ],
             [
              0.3333333333333333,
              "#9c179e"
             ],
             [
              0.4444444444444444,
              "#bd3786"
             ],
             [
              0.5555555555555556,
              "#d8576b"
             ],
             [
              0.6666666666666666,
              "#ed7953"
             ],
             [
              0.7777777777777778,
              "#fb9f3a"
             ],
             [
              0.8888888888888888,
              "#fdca26"
             ],
             [
              1,
              "#f0f921"
             ]
            ],
            "type": "surface"
           }
          ],
          "table": [
           {
            "cells": {
             "fill": {
              "color": "#EBF0F8"
             },
             "line": {
              "color": "white"
             }
            },
            "header": {
             "fill": {
              "color": "#C8D4E3"
             },
             "line": {
              "color": "white"
             }
            },
            "type": "table"
           }
          ]
         },
         "layout": {
          "annotationdefaults": {
           "arrowcolor": "#2a3f5f",
           "arrowhead": 0,
           "arrowwidth": 1
          },
          "autotypenumbers": "strict",
          "coloraxis": {
           "colorbar": {
            "outlinewidth": 0,
            "ticks": ""
           }
          },
          "colorscale": {
           "diverging": [
            [
             0,
             "#8e0152"
            ],
            [
             0.1,
             "#c51b7d"
            ],
            [
             0.2,
             "#de77ae"
            ],
            [
             0.3,
             "#f1b6da"
            ],
            [
             0.4,
             "#fde0ef"
            ],
            [
             0.5,
             "#f7f7f7"
            ],
            [
             0.6,
             "#e6f5d0"
            ],
            [
             0.7,
             "#b8e186"
            ],
            [
             0.8,
             "#7fbc41"
            ],
            [
             0.9,
             "#4d9221"
            ],
            [
             1,
             "#276419"
            ]
           ],
           "sequential": [
            [
             0,
             "#0d0887"
            ],
            [
             0.1111111111111111,
             "#46039f"
            ],
            [
             0.2222222222222222,
             "#7201a8"
            ],
            [
             0.3333333333333333,
             "#9c179e"
            ],
            [
             0.4444444444444444,
             "#bd3786"
            ],
            [
             0.5555555555555556,
             "#d8576b"
            ],
            [
             0.6666666666666666,
             "#ed7953"
            ],
            [
             0.7777777777777778,
             "#fb9f3a"
            ],
            [
             0.8888888888888888,
             "#fdca26"
            ],
            [
             1,
             "#f0f921"
            ]
           ],
           "sequentialminus": [
            [
             0,
             "#0d0887"
            ],
            [
             0.1111111111111111,
             "#46039f"
            ],
            [
             0.2222222222222222,
             "#7201a8"
            ],
            [
             0.3333333333333333,
             "#9c179e"
            ],
            [
             0.4444444444444444,
             "#bd3786"
            ],
            [
             0.5555555555555556,
             "#d8576b"
            ],
            [
             0.6666666666666666,
             "#ed7953"
            ],
            [
             0.7777777777777778,
             "#fb9f3a"
            ],
            [
             0.8888888888888888,
             "#fdca26"
            ],
            [
             1,
             "#f0f921"
            ]
           ]
          },
          "colorway": [
           "#636efa",
           "#EF553B",
           "#00cc96",
           "#ab63fa",
           "#FFA15A",
           "#19d3f3",
           "#FF6692",
           "#B6E880",
           "#FF97FF",
           "#FECB52"
          ],
          "font": {
           "color": "#2a3f5f"
          },
          "geo": {
           "bgcolor": "white",
           "lakecolor": "white",
           "landcolor": "#E5ECF6",
           "showlakes": true,
           "showland": true,
           "subunitcolor": "white"
          },
          "hoverlabel": {
           "align": "left"
          },
          "hovermode": "closest",
          "mapbox": {
           "style": "light"
          },
          "paper_bgcolor": "white",
          "plot_bgcolor": "#E5ECF6",
          "polar": {
           "angularaxis": {
            "gridcolor": "white",
            "linecolor": "white",
            "ticks": ""
           },
           "bgcolor": "#E5ECF6",
           "radialaxis": {
            "gridcolor": "white",
            "linecolor": "white",
            "ticks": ""
           }
          },
          "scene": {
           "xaxis": {
            "backgroundcolor": "#E5ECF6",
            "gridcolor": "white",
            "gridwidth": 2,
            "linecolor": "white",
            "showbackground": true,
            "ticks": "",
            "zerolinecolor": "white"
           },
           "yaxis": {
            "backgroundcolor": "#E5ECF6",
            "gridcolor": "white",
            "gridwidth": 2,
            "linecolor": "white",
            "showbackground": true,
            "ticks": "",
            "zerolinecolor": "white"
           },
           "zaxis": {
            "backgroundcolor": "#E5ECF6",
            "gridcolor": "white",
            "gridwidth": 2,
            "linecolor": "white",
            "showbackground": true,
            "ticks": "",
            "zerolinecolor": "white"
           }
          },
          "shapedefaults": {
           "line": {
            "color": "#2a3f5f"
           }
          },
          "ternary": {
           "aaxis": {
            "gridcolor": "white",
            "linecolor": "white",
            "ticks": ""
           },
           "baxis": {
            "gridcolor": "white",
            "linecolor": "white",
            "ticks": ""
           },
           "bgcolor": "#E5ECF6",
           "caxis": {
            "gridcolor": "white",
            "linecolor": "white",
            "ticks": ""
           }
          },
          "title": {
           "x": 0.05
          },
          "xaxis": {
           "automargin": true,
           "gridcolor": "white",
           "linecolor": "white",
           "ticks": "",
           "title": {
            "standoff": 15
           },
           "zerolinecolor": "white",
           "zerolinewidth": 2
          },
          "yaxis": {
           "automargin": true,
           "gridcolor": "white",
           "linecolor": "white",
           "ticks": "",
           "title": {
            "standoff": 15
           },
           "zerolinecolor": "white",
           "zerolinewidth": 2
          }
         }
        },
        "title": {
         "text": "Evolución de defunciones por accidente de tráfico de personas jóvenes en España"
        },
        "xaxis": {
         "anchor": "y",
         "domain": [
          0,
          0.45
         ]
        },
        "xaxis2": {
         "anchor": "y2",
         "domain": [
          0.55,
          1
         ]
        },
        "yaxis": {
         "anchor": "x",
         "domain": [
          0,
          1
         ]
        },
        "yaxis2": {
         "anchor": "x2",
         "domain": [
          0,
          1
         ]
        }
       }
      },
      "text/html": [
       "<div>                            <div id=\"b8eb2a8b-5629-4709-a5b4-231167d87ed2\" class=\"plotly-graph-div\" style=\"height:525px; width:100%;\"></div>            <script type=\"text/javascript\">                require([\"plotly\"], function(Plotly) {                    window.PLOTLYENV=window.PLOTLYENV || {};                                    if (document.getElementById(\"b8eb2a8b-5629-4709-a5b4-231167d87ed2\")) {                    Plotly.newPlot(                        \"b8eb2a8b-5629-4709-a5b4-231167d87ed2\",                        [{\"marker\":{\"color\":\"blue\"},\"name\":\"N\\u00famero de fallecidos por accidente de tr\\u00e1fico\",\"x\":[2012,2013,2014,2015,2016,2017,2018,2019,2020,2021],\"y\":[412,363,332,377,361,421,388,343,288,329],\"type\":\"bar\",\"xaxis\":\"x\",\"yaxis\":\"y\"},{\"line\":{\"color\":\"darkblue\",\"width\":4},\"name\":\"Porcentaje de fallecidos por suicidio\",\"x\":[2012,2013,2014,2015,2016,2017,2018,2019,2020,2021],\"y\":[12.443370582905466,12.718990889978976,11.989888046226074,14.76115896632733,14.24625098658248,16.50980392156863,15.085536547433904,14.126853377265238,10.790558261521168,11.963636363636363],\"type\":\"scatter\",\"xaxis\":\"x2\",\"yaxis\":\"y2\"}],                        {\"template\":{\"data\":{\"histogram2dcontour\":[{\"type\":\"histogram2dcontour\",\"colorbar\":{\"outlinewidth\":0,\"ticks\":\"\"},\"colorscale\":[[0.0,\"#0d0887\"],[0.1111111111111111,\"#46039f\"],[0.2222222222222222,\"#7201a8\"],[0.3333333333333333,\"#9c179e\"],[0.4444444444444444,\"#bd3786\"],[0.5555555555555556,\"#d8576b\"],[0.6666666666666666,\"#ed7953\"],[0.7777777777777778,\"#fb9f3a\"],[0.8888888888888888,\"#fdca26\"],[1.0,\"#f0f921\"]]}],\"choropleth\":[{\"type\":\"choropleth\",\"colorbar\":{\"outlinewidth\":0,\"ticks\":\"\"}}],\"histogram2d\":[{\"type\":\"histogram2d\",\"colorbar\":{\"outlinewidth\":0,\"ticks\":\"\"},\"colorscale\":[[0.0,\"#0d0887\"],[0.1111111111111111,\"#46039f\"],[0.2222222222222222,\"#7201a8\"],[0.3333333333333333,\"#9c179e\"],[0.4444444444444444,\"#bd3786\"],[0.5555555555555556,\"#d8576b\"],[0.6666666666666666,\"#ed7953\"],[0.7777777777777778,\"#fb9f3a\"],[0.8888888888888888,\"#fdca26\"],[1.0,\"#f0f921\"]]}],\"heatmap\":[{\"type\":\"heatmap\",\"colorbar\":{\"outlinewidth\":0,\"ticks\":\"\"},\"colorscale\":[[0.0,\"#0d0887\"],[0.1111111111111111,\"#46039f\"],[0.2222222222222222,\"#7201a8\"],[0.3333333333333333,\"#9c179e\"],[0.4444444444444444,\"#bd3786\"],[0.5555555555555556,\"#d8576b\"],[0.6666666666666666,\"#ed7953\"],[0.7777777777777778,\"#fb9f3a\"],[0.8888888888888888,\"#fdca26\"],[1.0,\"#f0f921\"]]}],\"heatmapgl\":[{\"type\":\"heatmapgl\",\"colorbar\":{\"outlinewidth\":0,\"ticks\":\"\"},\"colorscale\":[[0.0,\"#0d0887\"],[0.1111111111111111,\"#46039f\"],[0.2222222222222222,\"#7201a8\"],[0.3333333333333333,\"#9c179e\"],[0.4444444444444444,\"#bd3786\"],[0.5555555555555556,\"#d8576b\"],[0.6666666666666666,\"#ed7953\"],[0.7777777777777778,\"#fb9f3a\"],[0.8888888888888888,\"#fdca26\"],[1.0,\"#f0f921\"]]}],\"contourcarpet\":[{\"type\":\"contourcarpet\",\"colorbar\":{\"outlinewidth\":0,\"ticks\":\"\"}}],\"contour\":[{\"type\":\"contour\",\"colorbar\":{\"outlinewidth\":0,\"ticks\":\"\"},\"colorscale\":[[0.0,\"#0d0887\"],[0.1111111111111111,\"#46039f\"],[0.2222222222222222,\"#7201a8\"],[0.3333333333333333,\"#9c179e\"],[0.4444444444444444,\"#bd3786\"],[0.5555555555555556,\"#d8576b\"],[0.6666666666666666,\"#ed7953\"],[0.7777777777777778,\"#fb9f3a\"],[0.8888888888888888,\"#fdca26\"],[1.0,\"#f0f921\"]]}],\"surface\":[{\"type\":\"surface\",\"colorbar\":{\"outlinewidth\":0,\"ticks\":\"\"},\"colorscale\":[[0.0,\"#0d0887\"],[0.1111111111111111,\"#46039f\"],[0.2222222222222222,\"#7201a8\"],[0.3333333333333333,\"#9c179e\"],[0.4444444444444444,\"#bd3786\"],[0.5555555555555556,\"#d8576b\"],[0.6666666666666666,\"#ed7953\"],[0.7777777777777778,\"#fb9f3a\"],[0.8888888888888888,\"#fdca26\"],[1.0,\"#f0f921\"]]}],\"mesh3d\":[{\"type\":\"mesh3d\",\"colorbar\":{\"outlinewidth\":0,\"ticks\":\"\"}}],\"scatter\":[{\"fillpattern\":{\"fillmode\":\"overlay\",\"size\":10,\"solidity\":0.2},\"type\":\"scatter\"}],\"parcoords\":[{\"type\":\"parcoords\",\"line\":{\"colorbar\":{\"outlinewidth\":0,\"ticks\":\"\"}}}],\"scatterpolargl\":[{\"type\":\"scatterpolargl\",\"marker\":{\"colorbar\":{\"outlinewidth\":0,\"ticks\":\"\"}}}],\"bar\":[{\"error_x\":{\"color\":\"#2a3f5f\"},\"error_y\":{\"color\":\"#2a3f5f\"},\"marker\":{\"line\":{\"color\":\"#E5ECF6\",\"width\":0.5},\"pattern\":{\"fillmode\":\"overlay\",\"size\":10,\"solidity\":0.2}},\"type\":\"bar\"}],\"scattergeo\":[{\"type\":\"scattergeo\",\"marker\":{\"colorbar\":{\"outlinewidth\":0,\"ticks\":\"\"}}}],\"scatterpolar\":[{\"type\":\"scatterpolar\",\"marker\":{\"colorbar\":{\"outlinewidth\":0,\"ticks\":\"\"}}}],\"histogram\":[{\"marker\":{\"pattern\":{\"fillmode\":\"overlay\",\"size\":10,\"solidity\":0.2}},\"type\":\"histogram\"}],\"scattergl\":[{\"type\":\"scattergl\",\"marker\":{\"colorbar\":{\"outlinewidth\":0,\"ticks\":\"\"}}}],\"scatter3d\":[{\"type\":\"scatter3d\",\"line\":{\"colorbar\":{\"outlinewidth\":0,\"ticks\":\"\"}},\"marker\":{\"colorbar\":{\"outlinewidth\":0,\"ticks\":\"\"}}}],\"scattermapbox\":[{\"type\":\"scattermapbox\",\"marker\":{\"colorbar\":{\"outlinewidth\":0,\"ticks\":\"\"}}}],\"scatterternary\":[{\"type\":\"scatterternary\",\"marker\":{\"colorbar\":{\"outlinewidth\":0,\"ticks\":\"\"}}}],\"scattercarpet\":[{\"type\":\"scattercarpet\",\"marker\":{\"colorbar\":{\"outlinewidth\":0,\"ticks\":\"\"}}}],\"carpet\":[{\"aaxis\":{\"endlinecolor\":\"#2a3f5f\",\"gridcolor\":\"white\",\"linecolor\":\"white\",\"minorgridcolor\":\"white\",\"startlinecolor\":\"#2a3f5f\"},\"baxis\":{\"endlinecolor\":\"#2a3f5f\",\"gridcolor\":\"white\",\"linecolor\":\"white\",\"minorgridcolor\":\"white\",\"startlinecolor\":\"#2a3f5f\"},\"type\":\"carpet\"}],\"table\":[{\"cells\":{\"fill\":{\"color\":\"#EBF0F8\"},\"line\":{\"color\":\"white\"}},\"header\":{\"fill\":{\"color\":\"#C8D4E3\"},\"line\":{\"color\":\"white\"}},\"type\":\"table\"}],\"barpolar\":[{\"marker\":{\"line\":{\"color\":\"#E5ECF6\",\"width\":0.5},\"pattern\":{\"fillmode\":\"overlay\",\"size\":10,\"solidity\":0.2}},\"type\":\"barpolar\"}],\"pie\":[{\"automargin\":true,\"type\":\"pie\"}]},\"layout\":{\"autotypenumbers\":\"strict\",\"colorway\":[\"#636efa\",\"#EF553B\",\"#00cc96\",\"#ab63fa\",\"#FFA15A\",\"#19d3f3\",\"#FF6692\",\"#B6E880\",\"#FF97FF\",\"#FECB52\"],\"font\":{\"color\":\"#2a3f5f\"},\"hovermode\":\"closest\",\"hoverlabel\":{\"align\":\"left\"},\"paper_bgcolor\":\"white\",\"plot_bgcolor\":\"#E5ECF6\",\"polar\":{\"bgcolor\":\"#E5ECF6\",\"angularaxis\":{\"gridcolor\":\"white\",\"linecolor\":\"white\",\"ticks\":\"\"},\"radialaxis\":{\"gridcolor\":\"white\",\"linecolor\":\"white\",\"ticks\":\"\"}},\"ternary\":{\"bgcolor\":\"#E5ECF6\",\"aaxis\":{\"gridcolor\":\"white\",\"linecolor\":\"white\",\"ticks\":\"\"},\"baxis\":{\"gridcolor\":\"white\",\"linecolor\":\"white\",\"ticks\":\"\"},\"caxis\":{\"gridcolor\":\"white\",\"linecolor\":\"white\",\"ticks\":\"\"}},\"coloraxis\":{\"colorbar\":{\"outlinewidth\":0,\"ticks\":\"\"}},\"colorscale\":{\"sequential\":[[0.0,\"#0d0887\"],[0.1111111111111111,\"#46039f\"],[0.2222222222222222,\"#7201a8\"],[0.3333333333333333,\"#9c179e\"],[0.4444444444444444,\"#bd3786\"],[0.5555555555555556,\"#d8576b\"],[0.6666666666666666,\"#ed7953\"],[0.7777777777777778,\"#fb9f3a\"],[0.8888888888888888,\"#fdca26\"],[1.0,\"#f0f921\"]],\"sequentialminus\":[[0.0,\"#0d0887\"],[0.1111111111111111,\"#46039f\"],[0.2222222222222222,\"#7201a8\"],[0.3333333333333333,\"#9c179e\"],[0.4444444444444444,\"#bd3786\"],[0.5555555555555556,\"#d8576b\"],[0.6666666666666666,\"#ed7953\"],[0.7777777777777778,\"#fb9f3a\"],[0.8888888888888888,\"#fdca26\"],[1.0,\"#f0f921\"]],\"diverging\":[[0,\"#8e0152\"],[0.1,\"#c51b7d\"],[0.2,\"#de77ae\"],[0.3,\"#f1b6da\"],[0.4,\"#fde0ef\"],[0.5,\"#f7f7f7\"],[0.6,\"#e6f5d0\"],[0.7,\"#b8e186\"],[0.8,\"#7fbc41\"],[0.9,\"#4d9221\"],[1,\"#276419\"]]},\"xaxis\":{\"gridcolor\":\"white\",\"linecolor\":\"white\",\"ticks\":\"\",\"title\":{\"standoff\":15},\"zerolinecolor\":\"white\",\"automargin\":true,\"zerolinewidth\":2},\"yaxis\":{\"gridcolor\":\"white\",\"linecolor\":\"white\",\"ticks\":\"\",\"title\":{\"standoff\":15},\"zerolinecolor\":\"white\",\"automargin\":true,\"zerolinewidth\":2},\"scene\":{\"xaxis\":{\"backgroundcolor\":\"#E5ECF6\",\"gridcolor\":\"white\",\"linecolor\":\"white\",\"showbackground\":true,\"ticks\":\"\",\"zerolinecolor\":\"white\",\"gridwidth\":2},\"yaxis\":{\"backgroundcolor\":\"#E5ECF6\",\"gridcolor\":\"white\",\"linecolor\":\"white\",\"showbackground\":true,\"ticks\":\"\",\"zerolinecolor\":\"white\",\"gridwidth\":2},\"zaxis\":{\"backgroundcolor\":\"#E5ECF6\",\"gridcolor\":\"white\",\"linecolor\":\"white\",\"showbackground\":true,\"ticks\":\"\",\"zerolinecolor\":\"white\",\"gridwidth\":2}},\"shapedefaults\":{\"line\":{\"color\":\"#2a3f5f\"}},\"annotationdefaults\":{\"arrowcolor\":\"#2a3f5f\",\"arrowhead\":0,\"arrowwidth\":1},\"geo\":{\"bgcolor\":\"white\",\"landcolor\":\"#E5ECF6\",\"subunitcolor\":\"white\",\"showland\":true,\"showlakes\":true,\"lakecolor\":\"white\"},\"title\":{\"x\":0.05},\"mapbox\":{\"style\":\"light\"}}},\"xaxis\":{\"anchor\":\"y\",\"domain\":[0.0,0.45]},\"yaxis\":{\"anchor\":\"x\",\"domain\":[0.0,1.0]},\"xaxis2\":{\"anchor\":\"y2\",\"domain\":[0.55,1.0]},\"yaxis2\":{\"anchor\":\"x2\",\"domain\":[0.0,1.0]},\"title\":{\"text\":\"Evoluci\\u00f3n de defunciones por accidente de tr\\u00e1fico de personas j\\u00f3venes en Espa\\u00f1a\"}},                        {\"responsive\": true}                    ).then(function(){\n",
       "                            \n",
       "var gd = document.getElementById('b8eb2a8b-5629-4709-a5b4-231167d87ed2');\n",
       "var x = new MutationObserver(function (mutations, observer) {{\n",
       "        var display = window.getComputedStyle(gd).display;\n",
       "        if (!display || display === 'none') {{\n",
       "            console.log([gd, 'removed!']);\n",
       "            Plotly.purge(gd);\n",
       "            observer.disconnect();\n",
       "        }}\n",
       "}});\n",
       "\n",
       "// Listen for the removal of the full notebook cells\n",
       "var notebookContainer = gd.closest('#notebook-container');\n",
       "if (notebookContainer) {{\n",
       "    x.observe(notebookContainer, {childList: true});\n",
       "}}\n",
       "\n",
       "// Listen for the clearing of the current output cell\n",
       "var outputEl = gd.closest('.output');\n",
       "if (outputEl) {{\n",
       "    x.observe(outputEl, {childList: true});\n",
       "}}\n",
       "\n",
       "                        })                };                });            </script>        </div>"
      ]
     },
     "metadata": {},
     "output_type": "display_data"
    }
   ],
   "source": [
    "fig_barras = go.Figure(go.Bar(\n",
    "    x=totales_accidentes['Año'],\n",
    "    y=totales_accidentes['Defunciones por accidente de tráfico'],\n",
    "    marker=dict(\n",
    "        color='blue'),\n",
    "    name='Número de fallecidos por accidente de tráfico'\n",
    "))\n",
    "\n",
    "fig_lineal = go.Figure(go.Scatter(\n",
    "    x=porcentaje_accidentes['Año'],\n",
    "    y=porcentaje_accidentes['Porcentaje'],\n",
    "    name='Porcentaje de fallecidos por suicidio',\n",
    "    line=dict(color='darkblue', width=4)\n",
    "))\n",
    "\n",
    "fig_barras.update_layout(\n",
    "    yaxis=dict(\n",
    "        title='Número de fallecidos por accidente de tráfico',\n",
    "        tickformat='$,.0f',\n",
    "        showgrid=False\n",
    "    ),\n",
    "    legend=dict(\n",
    "        x=0.8,\n",
    "        y=1.1,\n",
    "        orientation='h'\n",
    "    )\n",
    ")\n",
    "\n",
    "fig_lineal.update_layout(\n",
    "    yaxis=dict(\n",
    "        title='Porcentaje defunciones',\n",
    "        tickformat='$,.0f',\n",
    "        showgrid=False\n",
    "    ),\n",
    "    legend=dict(\n",
    "        x=0.8,\n",
    "        y=1.1,\n",
    "        orientation='h'\n",
    "    )\n",
    ")\n",
    "\n",
    "fig = make_subplots(rows=1, cols=2)\n",
    "\n",
    "fig.add_trace(fig_barras.data[0], row=1, col=1)\n",
    "fig.add_trace(fig_lineal.data[0], row=1, col=2)\n",
    "\n",
    "fig.update_layout(title_text=\"Evolución de defunciones por accidente de tráfico de personas jóvenes en España\")\n",
    "\n",
    "fig.show()"
   ]
  },
  {
   "cell_type": "code",
   "execution_count": 39,
   "metadata": {},
   "outputs": [],
   "source": [
    "Año2 = [2012, 2013, 2014, 2015, 2016, 2017, 2018, 2019, 2020, 2021]\n",
    "Porcentajes2 = [porcentaje_accidentes2012, porcentaje_accidentes2013, porcentaje_accidentes2014, porcentaje_accidentes2015, porcentaje_accidentes2016, porcentaje_accidentes2017, porcentaje_accidentes2018, porcentaje_accidentes2019, porcentaje_accidentes2020, porcentaje_accidentes2021]\n",
    "Totales = [total_accidentes2012, total_accidentes2013, total_accidentes2014, total_accidentes2015, total_accidentes2016, total_accidentes2017, total_accidentes2018, total_accidentes2019,total_accidentes2020, total_accidentes2021]\n",
    "\n",
    "BI_accidentes = pd.DataFrame({\"Año\" : Año, \"Defunciones por accidentes de tráfico\" : Totales, \"Porcentaje sobre el total de defunciones\": Porcentajes2})\n",
    "BI_accidentes.to_excel('BI_accidentes.xlsx')"
   ]
  }
 ],
 "metadata": {
  "kernelspec": {
   "display_name": "Python 3 (ipykernel)",
   "language": "python",
   "name": "python3"
  },
  "language_info": {
   "codemirror_mode": {
    "name": "ipython",
    "version": 3
   },
   "file_extension": ".py",
   "mimetype": "text/x-python",
   "name": "python",
   "nbconvert_exporter": "python",
   "pygments_lexer": "ipython3",
   "version": "3.9.16"
  },
  "vscode": {
   "interpreter": {
    "hash": "118cd982d8abdca3abbc45bd60d068d6890a7d6a810f249f8ce273b07a9b7e76"
   }
  }
 },
 "nbformat": 4,
 "nbformat_minor": 2
}
